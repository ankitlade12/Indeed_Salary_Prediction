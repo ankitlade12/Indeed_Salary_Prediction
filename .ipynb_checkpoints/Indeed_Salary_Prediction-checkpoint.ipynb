{
 "cells": [
  {
   "cell_type": "markdown",
   "metadata": {},
   "source": [
    "# Web Scraping from Indeed and Predicting Salaries"
   ]
  },
  {
   "cell_type": "code",
   "execution_count": 1,
   "metadata": {},
   "outputs": [],
   "source": [
    "#Function to extract parameters(Title, Location, Salary, URL, Date Posted, Summary) from Indeed\n",
    "\n",
    "from bs4 import BeautifulSoup\n",
    "import requests\n",
    "import urllib.parse\n",
    "import csv\n",
    "from datetime import datetime\n",
    "\n",
    "def get_url(position,location,jobtype,dateposted):\n",
    "    template = 'https://www.indeed.com/jobs?q={}&l={}&jt={}&fromage={}'\n",
    "    url = template.format(position,location,jobtype,dateposted)\n",
    "    return url\n",
    "\n",
    "def get_record(card):\n",
    "    atag = card.h2.a\n",
    "    try:\n",
    "        job_title = atag.get('title')\n",
    "    except AttributeError:\n",
    "        job_title = ''\n",
    "    job_url = 'https://www.indeed.com' + atag.get('href')\n",
    "    try:\n",
    "        company = card.find('span','company').text.strip()\n",
    "    except AttributeError:\n",
    "        company = ''\n",
    "    job_location = card.find('div','recJobLoc').get('data-rc-loc')\n",
    "    job_summary = card.find('div','summary').text.strip()\n",
    "    post_date = card.find('span','date').text\n",
    "    today = datetime.today().strftime('%m-%d-%Y')\n",
    "    try:\n",
    "        job_salary = card.find('span','salaryText').text.strip()\n",
    "    except AttributeError:\n",
    "        job_salary = \"\"\n",
    "    \n",
    "    record = (job_title, company, job_location, post_date, today, job_summary, job_salary, job_url)\n",
    "    \n",
    "    return record\n",
    "\n",
    "def main(position,location,jobtype,dateposted):\n",
    "    records = []\n",
    "    url = get_url(position,location,jobtype,dateposted)\n",
    "    \n",
    "    while True:\n",
    "        response = requests.get(url)\n",
    "        soup = BeautifulSoup(response.text,'html.parser')\n",
    "        cards = soup.find_all('div','jobsearch-SerpJobCard')\n",
    "        \n",
    "        for card in cards:\n",
    "            record = get_record(card)\n",
    "            records.append(record)\n",
    "        try:\n",
    "            url = 'https://www.indeed.com' + soup.find('a',{\"aria-label\":\"Next\"}).get('href')\n",
    "        except AttributeError:\n",
    "            break\n",
    "    #Replace file name every time to save new records        \n",
    "    with open('results.csv', 'w', newline='', encoding='utf-8') as f:\n",
    "        writer = csv.writer(f)\n",
    "        writer.writerow(['Title', 'Company', 'Location', 'PostDate', 'ExtractDate', 'Summary', 'Salary', 'JobUrl'])\n",
    "        writer.writerows(records)"
   ]
  },
  {
   "cell_type": "code",
   "execution_count": null,
   "metadata": {},
   "outputs": [],
   "source": [
    "#Field 1: Position\n",
    "#Field 2: Location\n",
    "#Field 3: Full Time / Internship\n",
    "#Field 4: 1 = Last 24 hours, 3 = Last 3 days, 7 = Last 7 days, 14 = Last 14 days, last = Since your last visit\n",
    "\n",
    "main('Data Analyst','united states','full time','14')"
   ]
  },
  {
   "cell_type": "code",
   "execution_count": 2,
   "metadata": {},
   "outputs": [],
   "source": [
    "#Libraries\n",
    "\n",
    "import pandas as pd\n",
    "import numpy as np\n",
    "import matplotlib.pyplot as plt\n",
    "%matplotlib inline\n",
    "import seaborn as sns"
   ]
  },
  {
   "cell_type": "code",
   "execution_count": 3,
   "metadata": {},
   "outputs": [],
   "source": [
    "#Creating DataFrame of Data Analys, Data Science, Data Engineer, Business Analyst, Business Intelligence, Software Engineer\n",
    "\n",
    "df1 = pd.read_csv('results1.csv')\n",
    "df2 = pd.read_csv('results2.csv')\n",
    "df3 = pd.read_csv('results3.csv')\n",
    "df4 = pd.read_csv('results4.csv')\n",
    "df5 = pd.read_csv('results5.csv')\n",
    "df6 = pd.read_csv('results6.csv')"
   ]
  },
  {
   "cell_type": "code",
   "execution_count": 4,
   "metadata": {},
   "outputs": [],
   "source": [
    "#Concatenation of DataFrames\n",
    "\n",
    "df = pd.concat([df1, df2, df3, df4, df5, df6], ignore_index=True, sort=False)"
   ]
  },
  {
   "cell_type": "code",
   "execution_count": 5,
   "metadata": {},
   "outputs": [],
   "source": [
    "df.drop(['PostDate', 'ExtractDate', 'Summary', 'JobUrl'],axis=1,inplace=True)"
   ]
  },
  {
   "cell_type": "code",
   "execution_count": 6,
   "metadata": {},
   "outputs": [],
   "source": [
    "#removing duplicates\n",
    "\n",
    "df.drop_duplicates(inplace = True)"
   ]
  },
  {
   "cell_type": "code",
   "execution_count": 7,
   "metadata": {},
   "outputs": [],
   "source": [
    "#removing job posting that dont include salary\n",
    "\n",
    "df.dropna(inplace=True)"
   ]
  },
  {
   "cell_type": "code",
   "execution_count": 8,
   "metadata": {},
   "outputs": [
    {
     "data": {
      "text/plain": [
       "Title       object\n",
       "Company     object\n",
       "Location    object\n",
       "Salary      object\n",
       "dtype: object"
      ]
     },
     "execution_count": 8,
     "metadata": {},
     "output_type": "execute_result"
    }
   ],
   "source": [
    "df.dtypes"
   ]
  },
  {
   "cell_type": "code",
   "execution_count": 9,
   "metadata": {},
   "outputs": [],
   "source": [
    "#Function to extract loacation based on states\n",
    "\n",
    "def location_clean(df_col):\n",
    "    new_column = []\n",
    "    for i in df_col.map(lambda x: x.split(',')[-1]):\n",
    "        x = np.array(i, dtype= object)\n",
    "        new_column.append(x) \n",
    "    return new_column"
   ]
  },
  {
   "cell_type": "code",
   "execution_count": 10,
   "metadata": {},
   "outputs": [],
   "source": [
    "df.Location = location_clean(df.Location)"
   ]
  },
  {
   "cell_type": "code",
   "execution_count": 11,
   "metadata": {},
   "outputs": [
    {
     "data": {
      "text/html": [
       "<div>\n",
       "<style scoped>\n",
       "    .dataframe tbody tr th:only-of-type {\n",
       "        vertical-align: middle;\n",
       "    }\n",
       "\n",
       "    .dataframe tbody tr th {\n",
       "        vertical-align: top;\n",
       "    }\n",
       "\n",
       "    .dataframe thead th {\n",
       "        text-align: right;\n",
       "    }\n",
       "</style>\n",
       "<table border=\"1\" class=\"dataframe\">\n",
       "  <thead>\n",
       "    <tr style=\"text-align: right;\">\n",
       "      <th></th>\n",
       "      <th>Title</th>\n",
       "      <th>Company</th>\n",
       "      <th>Location</th>\n",
       "      <th>Salary</th>\n",
       "    </tr>\n",
       "  </thead>\n",
       "  <tbody>\n",
       "    <tr>\n",
       "      <th>2</th>\n",
       "      <td>Data Scientist Consultant</td>\n",
       "      <td>Zora Digital</td>\n",
       "      <td>Remote</td>\n",
       "      <td>Up to $75 an hour</td>\n",
       "    </tr>\n",
       "    <tr>\n",
       "      <th>6</th>\n",
       "      <td>Data Scientist - Fully Remote</td>\n",
       "      <td>DataSource.ai</td>\n",
       "      <td>CA</td>\n",
       "      <td>$113,114 - $221,749 a year</td>\n",
       "    </tr>\n",
       "    <tr>\n",
       "      <th>7</th>\n",
       "      <td>Jr. Data Scientist</td>\n",
       "      <td>Dash Technologies Inc</td>\n",
       "      <td>KS</td>\n",
       "      <td>$76,029 - $105,000 a year</td>\n",
       "    </tr>\n",
       "    <tr>\n",
       "      <th>9</th>\n",
       "      <td>Data Scientist - Entry to Experienced Level</td>\n",
       "      <td>National Security Agency (NSA)</td>\n",
       "      <td>MD</td>\n",
       "      <td>$102,663 - $157,709 a year</td>\n",
       "    </tr>\n",
       "    <tr>\n",
       "      <th>11</th>\n",
       "      <td>Data Scientist</td>\n",
       "      <td>Avicena, LLC</td>\n",
       "      <td>Remote</td>\n",
       "      <td>$120,000 - $150,000 a year</td>\n",
       "    </tr>\n",
       "  </tbody>\n",
       "</table>\n",
       "</div>"
      ],
      "text/plain": [
       "                                          Title  \\\n",
       "2                     Data Scientist Consultant   \n",
       "6                 Data Scientist - Fully Remote   \n",
       "7                            Jr. Data Scientist   \n",
       "9   Data Scientist - Entry to Experienced Level   \n",
       "11                               Data Scientist   \n",
       "\n",
       "                           Company Location                      Salary  \n",
       "2                     Zora Digital   Remote           Up to $75 an hour  \n",
       "6                    DataSource.ai       CA  $113,114 - $221,749 a year  \n",
       "7            Dash Technologies Inc       KS   $76,029 - $105,000 a year  \n",
       "9   National Security Agency (NSA)       MD  $102,663 - $157,709 a year  \n",
       "11                    Avicena, LLC   Remote  $120,000 - $150,000 a year  "
      ]
     },
     "execution_count": 11,
     "metadata": {},
     "output_type": "execute_result"
    }
   ],
   "source": [
    "df.head()"
   ]
  },
  {
   "cell_type": "code",
   "execution_count": 12,
   "metadata": {},
   "outputs": [
    {
     "data": {
      "text/html": [
       "<div>\n",
       "<style scoped>\n",
       "    .dataframe tbody tr th:only-of-type {\n",
       "        vertical-align: middle;\n",
       "    }\n",
       "\n",
       "    .dataframe tbody tr th {\n",
       "        vertical-align: top;\n",
       "    }\n",
       "\n",
       "    .dataframe thead th {\n",
       "        text-align: right;\n",
       "    }\n",
       "</style>\n",
       "<table border=\"1\" class=\"dataframe\">\n",
       "  <thead>\n",
       "    <tr style=\"text-align: right;\">\n",
       "      <th></th>\n",
       "      <th>Title</th>\n",
       "      <th>Company</th>\n",
       "      <th>Location</th>\n",
       "      <th>Salary</th>\n",
       "    </tr>\n",
       "  </thead>\n",
       "  <tbody>\n",
       "    <tr>\n",
       "      <th>6450</th>\n",
       "      <td>Hacedor</td>\n",
       "      <td>The Yerba Mate Co.</td>\n",
       "      <td>MA</td>\n",
       "      <td>$35,000 a year</td>\n",
       "    </tr>\n",
       "    <tr>\n",
       "      <th>6451</th>\n",
       "      <td>Sr. Data Developer</td>\n",
       "      <td>Daraja Enterprises, Inc.</td>\n",
       "      <td>AZ</td>\n",
       "      <td>$55,000 - $85,000 a year</td>\n",
       "    </tr>\n",
       "    <tr>\n",
       "      <th>6454</th>\n",
       "      <td>Concur Technician</td>\n",
       "      <td>Falcon IT &amp; Staffing Solutions LLC</td>\n",
       "      <td>MD</td>\n",
       "      <td>$98,000 a year</td>\n",
       "    </tr>\n",
       "    <tr>\n",
       "      <th>6459</th>\n",
       "      <td>Financial Analyst</td>\n",
       "      <td>Robert Half</td>\n",
       "      <td>MA</td>\n",
       "      <td>$20 - $25 an hour</td>\n",
       "    </tr>\n",
       "    <tr>\n",
       "      <th>6463</th>\n",
       "      <td>Outreach Specialist - Work from Home - Bi-Lingual</td>\n",
       "      <td>The Drexel Group Inc.</td>\n",
       "      <td>PA</td>\n",
       "      <td>$17 an hour</td>\n",
       "    </tr>\n",
       "  </tbody>\n",
       "</table>\n",
       "</div>"
      ],
      "text/plain": [
       "                                                  Title  \\\n",
       "6450                                            Hacedor   \n",
       "6451                                 Sr. Data Developer   \n",
       "6454                                  Concur Technician   \n",
       "6459                                  Financial Analyst   \n",
       "6463  Outreach Specialist - Work from Home - Bi-Lingual   \n",
       "\n",
       "                                 Company Location                    Salary  \n",
       "6450                  The Yerba Mate Co.       MA            $35,000 a year  \n",
       "6451            Daraja Enterprises, Inc.       AZ  $55,000 - $85,000 a year  \n",
       "6454  Falcon IT & Staffing Solutions LLC       MD            $98,000 a year  \n",
       "6459                         Robert Half       MA         $20 - $25 an hour  \n",
       "6463               The Drexel Group Inc.       PA               $17 an hour  "
      ]
     },
     "execution_count": 12,
     "metadata": {},
     "output_type": "execute_result"
    }
   ],
   "source": [
    "df.tail()"
   ]
  },
  {
   "cell_type": "code",
   "execution_count": 13,
   "metadata": {},
   "outputs": [
    {
     "data": {
      "text/plain": [
       "array(['Up to $75 an hour', '$113,114 - $221,749 a year',\n",
       "       '$76,029 - $105,000 a year', '$102,663 - $157,709 a year',\n",
       "       '$120,000 - $150,000 a year', '$65,000 - $120,000 a year',\n",
       "       '$130,000 - $140,000 a year', '$70,000 a year',\n",
       "       '$70,315 - $90,405 a year', '$100,000 - $110,000 a year',\n",
       "       '$50 - $60 an hour', '$120,000 a year', '$50,000 a year',\n",
       "       '$45 - $75 an hour', '$97,700 - $136,900 a year',\n",
       "       '$40 - $60 an hour', '$73,000 - $98,000 a year',\n",
       "       'Up to $180,000 a year', '$63,503 - $157,709 a year',\n",
       "       '$75,000 - $90,000 a year', '$97,463 - $190,000 a year',\n",
       "       '$47,986 - $61,194 a year', '$52,905 - $93,638 a year',\n",
       "       '$64,009 - $130,039 a year', '$76,721 - $118,603 a year',\n",
       "       '$90,000 - $100,000 a year', '$52,905 - $101,503 a year',\n",
       "       '$15 - $18 an hour', 'From $45 an hour', '$24 - $27 an hour',\n",
       "       '$90,000 - $150,000 a year', '$55 - $65 an hour',\n",
       "       '$60,000 - $85,000 a year', '$70,000 - $85,000 a year',\n",
       "       '$47,510 - $82,667 a year', '$75,000 - $140,000 a year',\n",
       "       '$70 - $80 an hour', '$56,000 - $65,000 a year',\n",
       "       '$35 - $40 an hour', '$80,000 - $85,000 a year',\n",
       "       '$38 - $46 an hour', '$84,176 - $177,443 a year',\n",
       "       '$60 - $80 an hour', 'From $120,000 a year',\n",
       "       '$84,118 - $109,358 a year', '$62,400 a year', '$31 - $42 an hour',\n",
       "       '$32,232 - $100,080 a year', '$100,000 - $140,000 a year',\n",
       "       '$54,142 - $89,315 a year', '$20 - $25 an hour',\n",
       "       '$62,300 - $93,200 a year', '$80,000 - $120,000 a year',\n",
       "       '$54,100 - $89,300 a year', 'Up to $160,000 a year',\n",
       "       '$60 - $65 an hour', '$48,670 - $112,240 a year',\n",
       "       '$90 - $100 an hour', '$75,000 a year', '$100 - $130 an hour',\n",
       "       '$65 an hour', '$142,701 - $170,800 a year', '$65 - $75 an hour',\n",
       "       '$105,000 - $110,000 a year', '$29 - $61 an hour',\n",
       "       'From $83,000 a year', '$65,280 - $93,996 a year',\n",
       "       '$117,191 - $152,352 a year', '$43 - $48 an hour',\n",
       "       '$70 - $78 an hour', '$100,319 - $152,137 a year',\n",
       "       '$50 - $65 an hour', '$45 - $97 an hour',\n",
       "       '$100,000 - $125,000 a year', '$128,166 - $166,621 a year',\n",
       "       '$110,400 a year', '$160,000 a year', '$5,691 - $6,699 a month',\n",
       "       '$84,468 - $97,138 a year', '$43 - $72 an hour',\n",
       "       '$50,000 - $60,000 a year', '$50.48 an hour',\n",
       "       '$135,000 - $145,000 a year', '$85 - $90 an hour', '$100 an hour',\n",
       "       '$120,000 - $140,000 a year', '$100,000 - $120,000 a year',\n",
       "       '$170,000 - $200,000 a year', '$29 - $32 an hour',\n",
       "       '$33 - $53 an hour', '$50,000 - $70,000 a year',\n",
       "       '$80,000 - $90,000 a year', '$23 - $25 an hour',\n",
       "       '$35 - $55 an hour', '$55,000 - $60,000 a year',\n",
       "       '$40,000 - $60,000 a year', '$15 an hour',\n",
       "       '$55,000 - $70,000 a year', '$45,000 - $70,000 a year',\n",
       "       '$75,000 - $85,000 a year', '$55,000 - $65,000 a year',\n",
       "       '$18 - $21 an hour', '$25.91 an hour', '$20 - $30 an hour',\n",
       "       '$35 an hour', '$40,000 - $75,000 a year', '$17 - $20 an hour',\n",
       "       '$16 - $20 an hour', '$50,000 - $80,000 a year',\n",
       "       '$49,192 - $67,912 a year', 'Up to $60,000 a year',\n",
       "       '$75,376 - $163,156 a year', 'From $25 an hour',\n",
       "       'Up to $45 an hour', '$60,000 - $65,000 a year',\n",
       "       '$30 - $35 an hour', '$20.40 - $29.50 an hour',\n",
       "       '$18.86 - $23.19 an hour', '$28 an hour', '$25 - $30 an hour',\n",
       "       '$20.36 - $24.43 an hour', '$66,000 - $76,000 a year',\n",
       "       'Up to $22 an hour', '$70,000 - $90,000 a year',\n",
       "       '$4,301 - $5,671 a month', '$67 an hour', 'From $90,000 a year',\n",
       "       'Up to $55,000 a year', '$55,686 - $90,858 a year',\n",
       "       '$65,000 - $75,000 a year', '$18.39 an hour',\n",
       "       '$32,000 - $37,000 a year', '$4,225 - $6,483 a month',\n",
       "       '$40,000 - $50,000 a year', 'From $40,000 a year',\n",
       "       '$30 - $42 an hour', '$75,000 - $78,000 a year',\n",
       "       '$67,000 - $97,000 a year', '$30,000 - $40,000 a year',\n",
       "       '$20 - $24 an hour', '$60,000 - $70,000 a year',\n",
       "       '$40,177 - $68,287 a year', '$37,262 - $41,621 a year',\n",
       "       '$45,000 - $60,000 a year', '$14.17 - $24.34 an hour',\n",
       "       '$25 - $35 an hour', '$22 - $35 an hour',\n",
       "       '$4,917 - $6,489 a month', 'From $45,000 a year',\n",
       "       '$45 - $50 an hour', '$35 - $75 an hour',\n",
       "       '$60,000 - $90,000 a year', 'Up to $61,596 a year',\n",
       "       '$30 - $40 an hour', '$29 - $35 an hour', '$40 - $45 an hour',\n",
       "       '$21 - $34 an hour', '$15 - $25 an hour', '$25 - $27 an hour',\n",
       "       '$45,000 - $125,000 a year', '$24.83 - $36.30 an hour',\n",
       "       '$18 - $25 an hour', '$38,772 - $58,158 a year', '$19.50 an hour',\n",
       "       '$60,000 - $100,000 a year', 'Up to $60 an hour',\n",
       "       '$43 - $53 an hour', '$57,673 a year', '$81,000 - $90,000 a year',\n",
       "       '$45,000 - $58,000 a year', '$20.62 an hour',\n",
       "       '$89,000 - $105,000 a year', '$77,172 - $112,856 a year',\n",
       "       'From $22 an hour', '$65 - $70 an hour',\n",
       "       '$72,000 - $82,000 a year', '$17.54 - $26.31 an hour',\n",
       "       '$58,000 - $74,000 a year', '$3,933 - $4,422 a month',\n",
       "       '$107,807 - $170,800 a year', '$75,000 - $79,000 a year',\n",
       "       'From $35,000 a year', 'From $28 an hour',\n",
       "       '$22.44 - $37.74 an hour', '$55,000 - $80,000 a year',\n",
       "       '$13 an hour', '$60,770 a year', '$64,432 - $92,279 a year',\n",
       "       '$10 - $15 an hour', '$53,477 - $89,315 a year',\n",
       "       '$25 - $29 an hour', '$20.00 - $25.95 an hour', '$76,031 a year',\n",
       "       '$52,024 - $75,145 a year', '$26 - $31 an hour',\n",
       "       '$59,529 - $85,782 a year', '$23.04 - $45.54 an hour',\n",
       "       '$13.26 an hour', '$35,000 - $70,000 a year', '$80,000 a year',\n",
       "       '$86,335 - $112,240 a year', '$4,917 - $6,334 a month',\n",
       "       'Up to $4,550 a month', 'From $70,000 a year', '$55 - $80 an hour',\n",
       "       'Up to $72,500 a year', '$72,000 - $75,850 a year',\n",
       "       '$66,500 - $70,000 a year', '$83,786 - $129,940 a year',\n",
       "       'From $60 an hour', '$73,000 - $80,000 a year', '$19 an hour',\n",
       "       '$50 - $70 an hour', '$67,000 - $95,454 a year',\n",
       "       '$33.98 - $42.59 an hour', 'From $37 an hour',\n",
       "       '$78,681 - $102,288 a year', 'From $85,000 a year',\n",
       "       '$35,000 - $40,000 a year', '$24.36 an hour',\n",
       "       '$65,000 - $80,000 a year', '$40,000 - $45,000 a year',\n",
       "       '$14.32 an hour', 'From $14 an hour', '$38,000 - $48,000 a year',\n",
       "       'Up to $17 an hour', '$75,000 - $100,000 a year', '$45 an hour',\n",
       "       '$84,500 a year', 'From $60,000 a year',\n",
       "       '$65,000 - $90,000 a year', '$35 - $39 an hour',\n",
       "       '$35 - $38 an hour', '$55,000 - $64,500 a year',\n",
       "       '$80,000 - $125,000 a year', '$90 an hour', '$43 - $73 an hour',\n",
       "       'From $55 an hour', '$75 an hour', '$60 - $63 an hour',\n",
       "       '$84,242 - $102,962 a year', '$87,378 - $120,000 a year',\n",
       "       '$55,000 - $75,000 a year', '$60.00 - $62.56 an hour',\n",
       "       '$87,378 - $196,440 a year', '$70 - $95 an hour',\n",
       "       '$85,000 - $125,000 a year', '$101,906 - $176,736 a year',\n",
       "       '$95,351 - $150,967 a year', '$63,000 - $90,000 a year',\n",
       "       '$96,146 - $96,500 a year', 'Up to $200,000 a year',\n",
       "       '$70,000 - $190,000 a year', '$87,350 - $125,000 a year',\n",
       "       '$95,000 - $110,000 a year', '$60,000 - $125,000 a year',\n",
       "       '$31 - $65 an hour', '$72,200 a year', '$63 - $73 an hour',\n",
       "       '$22,929 - $87,590 a year', 'From $50 an hour',\n",
       "       'Up to $20 an hour', '$100,000 - $150,000 a year',\n",
       "       '$52,272 - $69,552 a year', '$140,000 - $150,000 a year',\n",
       "       '$30 - $37 an hour', '$87,419 - $166,844 a year', '$509 a day',\n",
       "       '$130,000 - $150,000 a year', '$110,000 - $130,000 a year',\n",
       "       '$60,000 - $150,000 a year', '$55 - $75 an hour',\n",
       "       '$125,000 - $150,000 a year', '$51 an hour',\n",
       "       '$60,000 - $110,000 a year', '$105,918 - $180,000 a year',\n",
       "       '$60,500 - $138,230 a year', '$50,000 - $55,000 a year',\n",
       "       '$70 an hour', 'From $65 an hour', '$13 - $20 an hour',\n",
       "       '$95,000 - $125,000 a year', '$18 - $29 an hour',\n",
       "       '$87,864 - $195,119 a year', '$90,000 - $120,000 a year',\n",
       "       '$60,346 - $83,268 a year', '$60,000 a year', '$40 - $50 an hour',\n",
       "       '$15 - $35 an hour', '$77,000 - $102,000 a year',\n",
       "       '$37 - $40 an hour', '$76,000 - $91,000 a year',\n",
       "       '$29 - $36 an hour', '$43 - $67 an hour',\n",
       "       '$85,000 - $115,000 a year', '$116,000 - $142,000 a year',\n",
       "       '$30,004 a year', '$99,777 - $216,085 a year',\n",
       "       '$3,709 - $4,780 a month', '$30 - $36 an hour',\n",
       "       '$90,000 - $115,000 a year', '$110,000 - $120,000 a year',\n",
       "       '$70 - $72 an hour', '$21 - $30 an hour', '$36 - $55 an hour',\n",
       "       '$75 - $85 an hour', '$63,000 - $87,000 a year', '$125,000 a year',\n",
       "       '$65,072 - $117,129 a year', '$5,000 a month', '$95,000 a year',\n",
       "       '$75 - $100 an hour', '$60 - $70 an hour',\n",
       "       '$100,000 - $115,000 a year', '$70 - $150 an hour',\n",
       "       'From $75,000 a year', '$55 - $74 an hour', 'From $26 an hour',\n",
       "       '$53 - $65 an hour', '$52,000 - $75,000 a year',\n",
       "       '$35 - $45 an hour', '$69,477 - $145,302 a year',\n",
       "       '$65 - $80 an hour', '$80 - $88 an hour',\n",
       "       '$92,000 - $100,000 a year', '$105,000 a year',\n",
       "       '$61,000 - $68,000 a year', '$59,000 - $74,000 a year',\n",
       "       '$15 - $21 an hour', '$80,000 - $105,000 a year',\n",
       "       '$55 - $60 an hour', '$79,036 - $118,555 a year',\n",
       "       '$125,000 - $135,000 a year', '$88,000 - $107,000 a year',\n",
       "       '$100 - $110 an hour', '$45 - $53 an hour', '$18 - $23 an hour',\n",
       "       '$131,123 - $190,626 a year', '$80,000 - $110,000 a year',\n",
       "       '$14 - $16 an hour', '$40.99 an hour', '$75,000 - $95,000 a year',\n",
       "       '$68 an hour', '$65 - $95 an hour', '$36 - $37 an hour',\n",
       "       '$70,000 - $75,000 a year', '$38 - $42 an hour',\n",
       "       '$30,000 - $60,000 a year', '$70,000 - $80,000 a year',\n",
       "       '$87,670 - $180,000 a year', '$313 - $599 a day',\n",
       "       '$89,806 - $175,795 a year', '$74,308 - $90,821 a year',\n",
       "       '$111,890 - $206,975 a year', '$83,897 - $112,365 a year',\n",
       "       'From $111 an hour', '$60,000 - $80,000 a year',\n",
       "       '$105,000 - $130,000 a year', '$72,644 - $158,470 a year',\n",
       "       '$139,714 a year', '$80,000 - $100,000 a year',\n",
       "       '$90,000 - $110,000 a year', '$20 an hour',\n",
       "       '$69,435 - $91,400 a year', '$69,140 - $95,005 a year',\n",
       "       '$22 - $36 an hour', '$150,000 - $200,000 a year', '$56 an hour',\n",
       "       '$66,678 - $113,015 a year', '$70 - $90 an hour',\n",
       "       '$60,000 - $120,000 a year', '$80,443 - $165,144 a year',\n",
       "       '$150,000 - $170,000 a year', '$35 - $60 an hour',\n",
       "       '$66,454 - $78,000 a year', '$44,000 - $55,000 a year',\n",
       "       '$50,040 a year', '$50 an hour', 'Up to $95,000 a year',\n",
       "       '$42 - $45 an hour', '$50,000 - $65,000 a year', '$84,698 a year',\n",
       "       '$68,000 - $80,000 a year', '$6,000 - $10,000 a month',\n",
       "       '$95,000 - $118,000 a year', '$110,000 - $118,000 a year',\n",
       "       '$101,000 - $111,000 a year', '$52 - $60 an hour',\n",
       "       '$76,300 - $160,100 a year', '$109,642 - $110,000 a year',\n",
       "       '$80 an hour', '$3,800 - $5,400 a month', '$25 - $55 an hour',\n",
       "       '$138,000 - $174,000 a year', 'Up to $85,000 a year',\n",
       "       '$8,227 - $12,808 a month', '$36 - $44 an hour',\n",
       "       '$30 - $50 an hour', 'Up to $125,000 a year',\n",
       "       '$90,000 - $135,000 a year', 'From $55,000 a year',\n",
       "       '$50,000 - $75,000 a year', '$39 - $85 an hour', '$38.38 an hour',\n",
       "       '$85,000 - $100,000 a year', '$25 - $32 an hour',\n",
       "       '$55 - $70 an hour', '$70 - $75 an hour', 'Up to $65 an hour',\n",
       "       '$65,000 a year', 'Up to $30 an hour', '$45 - $55 an hour',\n",
       "       '$93,000 - $123,000 a year', '$54 - $64 an hour',\n",
       "       '$130,000 a year', 'From $15 an hour', 'From $50,000 a year',\n",
       "       '$65,000 - $70,000 a year', 'From $110,000 a year',\n",
       "       '$52 - $64 an hour', '$95,000 - $155,000 a year',\n",
       "       '$110,000 - $116,000 a year', '$89,175 - $139,122 a year',\n",
       "       '$100,000 a year', 'From $105,000 a year', '$50 - $100 an hour',\n",
       "       '$75,000 - $80,000 a year', '$151,601 - $198,400 a year',\n",
       "       '$70,618 - $88,273 a year', '$62,000 - $75,000 a year',\n",
       "       '$80,000 - $106,000 a year', '$19 - $24 an hour',\n",
       "       '$58,634 - $116,990 a year', '$65,323 - $91,000 a year',\n",
       "       '$56,339 - $91,817 a year', '$43 - $46 an hour',\n",
       "       '$110,000 - $170,000 a year', '$50 - $59 an hour',\n",
       "       '$26.82 - $32.08 an hour', '$35 - $42 an hour',\n",
       "       '$70 - $74 an hour', '$50 - $80 an hour',\n",
       "       '$80,000 - $115,000 a year', '$63,154 - $131,518 a year',\n",
       "       '$47 - $50 an hour', '$65,000 - $105,000 a year',\n",
       "       '$23 - $68 an hour', '$40 - $55 an hour',\n",
       "       '$58,000 - $62,000 a year', '$58,038 - $96,000 a year',\n",
       "       '$30 - $34 an hour', '$54,173 - $102,601 a year',\n",
       "       '$76,126 - $97,375 a year', '$74,000 - $115,000 a year',\n",
       "       '$50 - $55 an hour', '$60,000 - $75,000 a year',\n",
       "       '$39 - $40 an hour', '$73,000 - $89,000 a year', '$49,594 a year',\n",
       "       '$3,298 - $5,360 a month', '$53,936 - $112,824 a year',\n",
       "       '$53,699 a year', '$52 - $55 an hour', '$98,000 a year',\n",
       "       '$74,614 - $90,637 a year', '$69 - $85 an hour',\n",
       "       '$65,000 - $95,000 a year', '$90 - $95 an hour',\n",
       "       '$40 - $42 an hour', '$44 - $61 an hour', '$31 - $67 an hour',\n",
       "       '$500 - $600 a day', 'Up to $50 an hour',\n",
       "       '$4,201 - $5,035 a month', '$21 - $31 an hour',\n",
       "       '$19 - $20 an hour', '$58,054 - $128,240 a year',\n",
       "       '$80,000 - $95,000 a year', '$30 - $31 an hour',\n",
       "       '$73,986 - $111,384 a year', '$32 - $61 an hour',\n",
       "       '$6,341 - $7,800 a month', '$90,000 - $96,000 a year',\n",
       "       '$79,367 - $103,182 a year', '$95,000 - $100,000 a year',\n",
       "       '$45,000 - $85,000 a year', 'Up to $40 an hour',\n",
       "       '$52,000 - $58,836 a year', '$23.66 an hour',\n",
       "       '$110,000 - $180,000 a year', '$26.50 an hour',\n",
       "       '$64,000 - $78,000 a year', 'Up to $75,000 a year',\n",
       "       '$86,000 - $119,000 a year', '$27 an hour', '$21 an hour',\n",
       "       '$34 - $36 an hour', '$78,130 - $132,517 a year', '$32 an hour',\n",
       "       '$48,465 - $55,118 a year', '$42,918 a year', 'From $10 an hour',\n",
       "       '$58,243 - $140,469 a year', '$40,000 a year', '$25.08 an hour',\n",
       "       '$74,874 - $137,567 a year', 'From $73,814 a year',\n",
       "       '$47,600 - $79,699 a year', '$61,310 a year',\n",
       "       '$65,439 - $113,071 a year', '$32.31 an hour',\n",
       "       '$61,998 - $103,634 a year', '$76,152 a year',\n",
       "       '$102,000 - $127,000 a year', '$145,000 - $187,000 a year',\n",
       "       '$18 - $20 an hour', '$15,000 a month',\n",
       "       '$94,858 - $122,227 a year', '$113,000 - $145,000 a year',\n",
       "       '$49,380 - $82,299 a year', '$5,656 - $7,777 a month',\n",
       "       'From $12.25 an hour', '$14 - $42 an hour',\n",
       "       '$68,218 - $106,584 a year', '$48 - $95 an hour',\n",
       "       'From $27.50 an hour', '$11 an hour', '$208,000 - $275,000 a year',\n",
       "       '$30,000 - $50,000 a year', '$53 - $70 an hour',\n",
       "       '$6,462 - $8,479 a month', 'From $65,000 a year',\n",
       "       '$19,199 - $42,158 a year', '$250,000 - $300,000 a year',\n",
       "       '$30.77 - $36.92 an hour', 'From $18 an hour',\n",
       "       '$73,567 - $93,251 a year', '$142,701 a year',\n",
       "       '$46,000 - $56,000 a year', '$100,027 - $130,039 a year',\n",
       "       '$71,200 - $106,700 a year', '$15 - $20 an hour',\n",
       "       '$16 - $18 an hour', '$2,889 - $3,398 a month', '$27.67 an hour',\n",
       "       '$58,523 - $76,080 a year', '$74,650 - $85,847 a year',\n",
       "       '$70,000 - $100,000 a year', '$61 - $70 an hour',\n",
       "       '$80,000 - $84,000 a year', '$76 - $80 an hour',\n",
       "       '$17 - $19 an hour', '$56,369 - $70,000 a year',\n",
       "       '$80 - $90 an hour', '$34,400 - $43,000 a year',\n",
       "       '$90,000 - $140,000 a year', '$34.89 an hour', '$14 an hour',\n",
       "       '$30,000 - $75,000 a year', '$43,000 a year',\n",
       "       '$45,000 - $50,000 a year', 'From $100,000 a year',\n",
       "       '$96,494 - $177,687 a year', '$17.13 an hour', '$40 - $56 an hour',\n",
       "       '$154,687 a year', '$30,082 a year', '$20,000 - $80,000 a year',\n",
       "       '$20 - $33 an hour', '$16.50 an hour', '$35,000 a year',\n",
       "       '$55,000 - $85,000 a year', '$17 an hour'], dtype=object)"
      ]
     },
     "execution_count": 13,
     "metadata": {},
     "output_type": "execute_result"
    }
   ],
   "source": [
    "df.Salary.unique()"
   ]
  },
  {
   "cell_type": "code",
   "execution_count": 14,
   "metadata": {},
   "outputs": [],
   "source": [
    "#Keeping salaries per year\n",
    "\n",
    "df.drop(df[~df['Salary'].str.contains('a year')].index, inplace = True)"
   ]
  },
  {
   "cell_type": "code",
   "execution_count": 15,
   "metadata": {},
   "outputs": [
    {
     "data": {
      "text/html": [
       "<div>\n",
       "<style scoped>\n",
       "    .dataframe tbody tr th:only-of-type {\n",
       "        vertical-align: middle;\n",
       "    }\n",
       "\n",
       "    .dataframe tbody tr th {\n",
       "        vertical-align: top;\n",
       "    }\n",
       "\n",
       "    .dataframe thead th {\n",
       "        text-align: right;\n",
       "    }\n",
       "</style>\n",
       "<table border=\"1\" class=\"dataframe\">\n",
       "  <thead>\n",
       "    <tr style=\"text-align: right;\">\n",
       "      <th></th>\n",
       "      <th>Title</th>\n",
       "      <th>Company</th>\n",
       "      <th>Location</th>\n",
       "      <th>Salary</th>\n",
       "    </tr>\n",
       "  </thead>\n",
       "  <tbody>\n",
       "    <tr>\n",
       "      <th>6</th>\n",
       "      <td>Data Scientist - Fully Remote</td>\n",
       "      <td>DataSource.ai</td>\n",
       "      <td>CA</td>\n",
       "      <td>$113,114 - $221,749 a year</td>\n",
       "    </tr>\n",
       "    <tr>\n",
       "      <th>7</th>\n",
       "      <td>Jr. Data Scientist</td>\n",
       "      <td>Dash Technologies Inc</td>\n",
       "      <td>KS</td>\n",
       "      <td>$76,029 - $105,000 a year</td>\n",
       "    </tr>\n",
       "    <tr>\n",
       "      <th>9</th>\n",
       "      <td>Data Scientist - Entry to Experienced Level</td>\n",
       "      <td>National Security Agency (NSA)</td>\n",
       "      <td>MD</td>\n",
       "      <td>$102,663 - $157,709 a year</td>\n",
       "    </tr>\n",
       "    <tr>\n",
       "      <th>11</th>\n",
       "      <td>Data Scientist</td>\n",
       "      <td>Avicena, LLC</td>\n",
       "      <td>Remote</td>\n",
       "      <td>$120,000 - $150,000 a year</td>\n",
       "    </tr>\n",
       "    <tr>\n",
       "      <th>33</th>\n",
       "      <td>Data Analyst/Data Scientist</td>\n",
       "      <td>Cascade Data Labs</td>\n",
       "      <td>OR</td>\n",
       "      <td>$65,000 - $120,000 a year</td>\n",
       "    </tr>\n",
       "  </tbody>\n",
       "</table>\n",
       "</div>"
      ],
      "text/plain": [
       "                                          Title  \\\n",
       "6                 Data Scientist - Fully Remote   \n",
       "7                            Jr. Data Scientist   \n",
       "9   Data Scientist - Entry to Experienced Level   \n",
       "11                               Data Scientist   \n",
       "33                  Data Analyst/Data Scientist   \n",
       "\n",
       "                           Company Location                      Salary  \n",
       "6                    DataSource.ai       CA  $113,114 - $221,749 a year  \n",
       "7            Dash Technologies Inc       KS   $76,029 - $105,000 a year  \n",
       "9   National Security Agency (NSA)       MD  $102,663 - $157,709 a year  \n",
       "11                    Avicena, LLC   Remote  $120,000 - $150,000 a year  \n",
       "33               Cascade Data Labs       OR   $65,000 - $120,000 a year  "
      ]
     },
     "execution_count": 15,
     "metadata": {},
     "output_type": "execute_result"
    }
   ],
   "source": [
    "df.head()"
   ]
  },
  {
   "cell_type": "code",
   "execution_count": 16,
   "metadata": {},
   "outputs": [
    {
     "data": {
      "text/html": [
       "<div>\n",
       "<style scoped>\n",
       "    .dataframe tbody tr th:only-of-type {\n",
       "        vertical-align: middle;\n",
       "    }\n",
       "\n",
       "    .dataframe tbody tr th {\n",
       "        vertical-align: top;\n",
       "    }\n",
       "\n",
       "    .dataframe thead th {\n",
       "        text-align: right;\n",
       "    }\n",
       "</style>\n",
       "<table border=\"1\" class=\"dataframe\">\n",
       "  <thead>\n",
       "    <tr style=\"text-align: right;\">\n",
       "      <th></th>\n",
       "      <th>Title</th>\n",
       "      <th>Company</th>\n",
       "      <th>Location</th>\n",
       "      <th>Salary</th>\n",
       "    </tr>\n",
       "  </thead>\n",
       "  <tbody>\n",
       "    <tr>\n",
       "      <th>6423</th>\n",
       "      <td>Software Programmer</td>\n",
       "      <td>ThriveSoft</td>\n",
       "      <td>WA</td>\n",
       "      <td>$80,000 - $90,000 a year</td>\n",
       "    </tr>\n",
       "    <tr>\n",
       "      <th>6446</th>\n",
       "      <td>Software Developer (.NET) Opportunities for En...</td>\n",
       "      <td>Quotum Technologies Inc.</td>\n",
       "      <td>GA</td>\n",
       "      <td>From $50,000 a year</td>\n",
       "    </tr>\n",
       "    <tr>\n",
       "      <th>6450</th>\n",
       "      <td>Hacedor</td>\n",
       "      <td>The Yerba Mate Co.</td>\n",
       "      <td>MA</td>\n",
       "      <td>$35,000 a year</td>\n",
       "    </tr>\n",
       "    <tr>\n",
       "      <th>6451</th>\n",
       "      <td>Sr. Data Developer</td>\n",
       "      <td>Daraja Enterprises, Inc.</td>\n",
       "      <td>AZ</td>\n",
       "      <td>$55,000 - $85,000 a year</td>\n",
       "    </tr>\n",
       "    <tr>\n",
       "      <th>6454</th>\n",
       "      <td>Concur Technician</td>\n",
       "      <td>Falcon IT &amp; Staffing Solutions LLC</td>\n",
       "      <td>MD</td>\n",
       "      <td>$98,000 a year</td>\n",
       "    </tr>\n",
       "  </tbody>\n",
       "</table>\n",
       "</div>"
      ],
      "text/plain": [
       "                                                  Title  \\\n",
       "6423                                Software Programmer   \n",
       "6446  Software Developer (.NET) Opportunities for En...   \n",
       "6450                                            Hacedor   \n",
       "6451                                 Sr. Data Developer   \n",
       "6454                                  Concur Technician   \n",
       "\n",
       "                                 Company Location                    Salary  \n",
       "6423                          ThriveSoft       WA  $80,000 - $90,000 a year  \n",
       "6446            Quotum Technologies Inc.       GA       From $50,000 a year  \n",
       "6450                  The Yerba Mate Co.       MA            $35,000 a year  \n",
       "6451            Daraja Enterprises, Inc.       AZ  $55,000 - $85,000 a year  \n",
       "6454  Falcon IT & Staffing Solutions LLC       MD            $98,000 a year  "
      ]
     },
     "execution_count": 16,
     "metadata": {},
     "output_type": "execute_result"
    }
   ],
   "source": [
    "df.tail()"
   ]
  },
  {
   "cell_type": "code",
   "execution_count": 17,
   "metadata": {},
   "outputs": [],
   "source": [
    "#Function that takes a salary string and converts it to a number and average a salary range if necessary\n",
    "\n",
    "def salary_clean(df_col):\n",
    "    new_column = []\n",
    "    for i in df_col.map(lambda x: x.replace(' a year', '').replace('$','').replace(',','').replace('Up to','').replace('From','').split('-')[0]):\n",
    "        x = np.array(i, dtype= int)\n",
    "        new_column.append(np.mean(x))\n",
    "    return new_column"
   ]
  },
  {
   "cell_type": "code",
   "execution_count": 18,
   "metadata": {},
   "outputs": [],
   "source": [
    "df.Salary = salary_clean(df.Salary)"
   ]
  },
  {
   "cell_type": "code",
   "execution_count": 19,
   "metadata": {},
   "outputs": [
    {
     "data": {
      "text/html": [
       "<div>\n",
       "<style scoped>\n",
       "    .dataframe tbody tr th:only-of-type {\n",
       "        vertical-align: middle;\n",
       "    }\n",
       "\n",
       "    .dataframe tbody tr th {\n",
       "        vertical-align: top;\n",
       "    }\n",
       "\n",
       "    .dataframe thead th {\n",
       "        text-align: right;\n",
       "    }\n",
       "</style>\n",
       "<table border=\"1\" class=\"dataframe\">\n",
       "  <thead>\n",
       "    <tr style=\"text-align: right;\">\n",
       "      <th></th>\n",
       "      <th>Title</th>\n",
       "      <th>Company</th>\n",
       "      <th>Location</th>\n",
       "      <th>Salary</th>\n",
       "    </tr>\n",
       "  </thead>\n",
       "  <tbody>\n",
       "    <tr>\n",
       "      <th>6</th>\n",
       "      <td>Data Scientist - Fully Remote</td>\n",
       "      <td>DataSource.ai</td>\n",
       "      <td>CA</td>\n",
       "      <td>113114.0</td>\n",
       "    </tr>\n",
       "    <tr>\n",
       "      <th>7</th>\n",
       "      <td>Jr. Data Scientist</td>\n",
       "      <td>Dash Technologies Inc</td>\n",
       "      <td>KS</td>\n",
       "      <td>76029.0</td>\n",
       "    </tr>\n",
       "    <tr>\n",
       "      <th>9</th>\n",
       "      <td>Data Scientist - Entry to Experienced Level</td>\n",
       "      <td>National Security Agency (NSA)</td>\n",
       "      <td>MD</td>\n",
       "      <td>102663.0</td>\n",
       "    </tr>\n",
       "    <tr>\n",
       "      <th>11</th>\n",
       "      <td>Data Scientist</td>\n",
       "      <td>Avicena, LLC</td>\n",
       "      <td>Remote</td>\n",
       "      <td>120000.0</td>\n",
       "    </tr>\n",
       "    <tr>\n",
       "      <th>33</th>\n",
       "      <td>Data Analyst/Data Scientist</td>\n",
       "      <td>Cascade Data Labs</td>\n",
       "      <td>OR</td>\n",
       "      <td>65000.0</td>\n",
       "    </tr>\n",
       "  </tbody>\n",
       "</table>\n",
       "</div>"
      ],
      "text/plain": [
       "                                          Title  \\\n",
       "6                 Data Scientist - Fully Remote   \n",
       "7                            Jr. Data Scientist   \n",
       "9   Data Scientist - Entry to Experienced Level   \n",
       "11                               Data Scientist   \n",
       "33                  Data Analyst/Data Scientist   \n",
       "\n",
       "                           Company Location    Salary  \n",
       "6                    DataSource.ai       CA  113114.0  \n",
       "7            Dash Technologies Inc       KS   76029.0  \n",
       "9   National Security Agency (NSA)       MD  102663.0  \n",
       "11                    Avicena, LLC   Remote  120000.0  \n",
       "33               Cascade Data Labs       OR   65000.0  "
      ]
     },
     "execution_count": 19,
     "metadata": {},
     "output_type": "execute_result"
    }
   ],
   "source": [
    "df.head()"
   ]
  },
  {
   "cell_type": "code",
   "execution_count": 20,
   "metadata": {},
   "outputs": [],
   "source": [
    "df = df.reset_index(drop=True)"
   ]
  },
  {
   "cell_type": "code",
   "execution_count": 21,
   "metadata": {},
   "outputs": [
    {
     "data": {
      "text/html": [
       "<div>\n",
       "<style scoped>\n",
       "    .dataframe tbody tr th:only-of-type {\n",
       "        vertical-align: middle;\n",
       "    }\n",
       "\n",
       "    .dataframe tbody tr th {\n",
       "        vertical-align: top;\n",
       "    }\n",
       "\n",
       "    .dataframe thead th {\n",
       "        text-align: right;\n",
       "    }\n",
       "</style>\n",
       "<table border=\"1\" class=\"dataframe\">\n",
       "  <thead>\n",
       "    <tr style=\"text-align: right;\">\n",
       "      <th></th>\n",
       "      <th>Title</th>\n",
       "      <th>Company</th>\n",
       "      <th>Location</th>\n",
       "      <th>Salary</th>\n",
       "    </tr>\n",
       "  </thead>\n",
       "  <tbody>\n",
       "    <tr>\n",
       "      <th>0</th>\n",
       "      <td>Data Scientist - Fully Remote</td>\n",
       "      <td>DataSource.ai</td>\n",
       "      <td>CA</td>\n",
       "      <td>113114.0</td>\n",
       "    </tr>\n",
       "    <tr>\n",
       "      <th>1</th>\n",
       "      <td>Jr. Data Scientist</td>\n",
       "      <td>Dash Technologies Inc</td>\n",
       "      <td>KS</td>\n",
       "      <td>76029.0</td>\n",
       "    </tr>\n",
       "    <tr>\n",
       "      <th>2</th>\n",
       "      <td>Data Scientist - Entry to Experienced Level</td>\n",
       "      <td>National Security Agency (NSA)</td>\n",
       "      <td>MD</td>\n",
       "      <td>102663.0</td>\n",
       "    </tr>\n",
       "    <tr>\n",
       "      <th>3</th>\n",
       "      <td>Data Scientist</td>\n",
       "      <td>Avicena, LLC</td>\n",
       "      <td>Remote</td>\n",
       "      <td>120000.0</td>\n",
       "    </tr>\n",
       "    <tr>\n",
       "      <th>4</th>\n",
       "      <td>Data Analyst/Data Scientist</td>\n",
       "      <td>Cascade Data Labs</td>\n",
       "      <td>OR</td>\n",
       "      <td>65000.0</td>\n",
       "    </tr>\n",
       "  </tbody>\n",
       "</table>\n",
       "</div>"
      ],
      "text/plain": [
       "                                         Title  \\\n",
       "0                Data Scientist - Fully Remote   \n",
       "1                           Jr. Data Scientist   \n",
       "2  Data Scientist - Entry to Experienced Level   \n",
       "3                               Data Scientist   \n",
       "4                  Data Analyst/Data Scientist   \n",
       "\n",
       "                          Company Location    Salary  \n",
       "0                   DataSource.ai       CA  113114.0  \n",
       "1           Dash Technologies Inc       KS   76029.0  \n",
       "2  National Security Agency (NSA)       MD  102663.0  \n",
       "3                    Avicena, LLC   Remote  120000.0  \n",
       "4               Cascade Data Labs       OR   65000.0  "
      ]
     },
     "execution_count": 21,
     "metadata": {},
     "output_type": "execute_result"
    }
   ],
   "source": [
    "df.head()"
   ]
  },
  {
   "cell_type": "code",
   "execution_count": 22,
   "metadata": {},
   "outputs": [],
   "source": [
    "df.rename(columns={\"Title\": \"title\", \"Company\": \"company\", \"Location\": \"location\", \"Salary\": \"salary\"}, errors=\"raise\", inplace=True)"
   ]
  },
  {
   "cell_type": "code",
   "execution_count": 23,
   "metadata": {},
   "outputs": [
    {
     "data": {
      "text/plain": [
       " CA                 56\n",
       "Remote              43\n",
       " TX                 39\n",
       " VA                 26\n",
       " WA                 21\n",
       " DC                 19\n",
       " MD                 19\n",
       " FL                 19\n",
       " NC                 19\n",
       " NY                 18\n",
       " IL                 15\n",
       " GA                 15\n",
       " PA                 13\n",
       " AZ                 12\n",
       " CO                 11\n",
       " MA                 11\n",
       " OH                 10\n",
       " TN                 10\n",
       " UT                 10\n",
       " MN                  8\n",
       " NJ                  8\n",
       " MI                  7\n",
       " KY                  6\n",
       " MO                  5\n",
       " CT                  5\n",
       "United States        4\n",
       " IN                  4\n",
       " OR                  4\n",
       " NM                  4\n",
       " SC                  4\n",
       " WV                  3\n",
       "Washington State     2\n",
       " DE                  2\n",
       " LA                  2\n",
       " IA                  2\n",
       " MS                  2\n",
       " AL                  2\n",
       " NE                  2\n",
       " WI                  2\n",
       " ID                  2\n",
       " KS                  2\n",
       " PR                  1\n",
       " AR                  1\n",
       "Massachusetts        1\n",
       " AK                  1\n",
       " RI                  1\n",
       "Maryland             1\n",
       " NV                  1\n",
       "Name: location, dtype: int64"
      ]
     },
     "execution_count": 23,
     "metadata": {},
     "output_type": "execute_result"
    }
   ],
   "source": [
    "df['location'] = df['location'].astype(str)\n",
    "df.location.value_counts()"
   ]
  },
  {
   "cell_type": "code",
   "execution_count": 24,
   "metadata": {
    "scrolled": true
   },
   "outputs": [
    {
     "data": {
      "text/plain": [
       "<matplotlib.axes._subplots.AxesSubplot at 0x1b68cf12f48>"
      ]
     },
     "execution_count": 24,
     "metadata": {},
     "output_type": "execute_result"
    },
    {
     "data": {
      "image/png": "[encoded data removed]",
      "text/plain": [
       "<Figure size 432x288 with 1 Axes>"
      ]
     },
     "metadata": {
      "needs_background": "light"
     },
     "output_type": "display_data"
    }
   ],
   "source": [
    "sns.distplot(df.salary)"
   ]
  },
  {
   "cell_type": "code",
   "execution_count": 25,
   "metadata": {},
   "outputs": [
    {
     "data": {
      "text/plain": [
       "76407.04631578947"
      ]
     },
     "execution_count": 25,
     "metadata": {},
     "output_type": "execute_result"
    }
   ],
   "source": [
    "df.salary.mean()"
   ]
  },
  {
   "cell_type": "code",
   "execution_count": 26,
   "metadata": {},
   "outputs": [
    {
     "data": {
      "text/plain": [
       "71200.0"
      ]
     },
     "execution_count": 26,
     "metadata": {},
     "output_type": "execute_result"
    }
   ],
   "source": [
    "df.salary.median()"
   ]
  },
  {
   "cell_type": "code",
   "execution_count": 27,
   "metadata": {},
   "outputs": [],
   "source": [
    "#Creating a binary variable whether the salary is lower or higher than median\n",
    "\n",
    "salary_high_low = df.salary.map(lambda x: 1 if x >= df.salary.median() else 0)"
   ]
  },
  {
   "cell_type": "code",
   "execution_count": 28,
   "metadata": {},
   "outputs": [],
   "source": [
    "df['salary_high_low'] = salary_high_low"
   ]
  },
  {
   "cell_type": "code",
   "execution_count": 29,
   "metadata": {},
   "outputs": [
    {
     "name": "stdout",
     "output_type": "stream",
     "text": [
      "Baseline accuracy: 0.5010526315789474\n"
     ]
    }
   ],
   "source": [
    "#Baseline Accuracy of the model\n",
    "\n",
    "print('Baseline accuracy:',df.salary_high_low.value_counts(normalize = True).max())"
   ]
  },
  {
   "cell_type": "code",
   "execution_count": 30,
   "metadata": {},
   "outputs": [
    {
     "data": {
      "image/png": "[encoded data removed]",
      "text/plain": [
       "<Figure size 432x288 with 1 Axes>"
      ]
     },
     "metadata": {
      "needs_background": "light"
     },
     "output_type": "display_data"
    }
   ],
   "source": [
    "#Classification of model based on location as a feature\n",
    "\n",
    "df.groupby('location').salary.mean().plot(kind = 'bar');"
   ]
  },
  {
   "cell_type": "code",
   "execution_count": 31,
   "metadata": {},
   "outputs": [],
   "source": [
    "X = pd.get_dummies(df.location)\n",
    "y = df.salary_high_low"
   ]
  },
  {
   "cell_type": "code",
   "execution_count": 32,
   "metadata": {},
   "outputs": [],
   "source": [
    "from sklearn.preprocessing import StandardScaler\n",
    "from sklearn.linear_model import LogisticRegression\n",
    "from sklearn.neighbors import KNeighborsClassifier\n",
    "from sklearn.model_selection import train_test_split, cross_val_score, GridSearchCV"
   ]
  },
  {
   "cell_type": "code",
   "execution_count": 33,
   "metadata": {},
   "outputs": [],
   "source": [
    "X_train, X_test, y_train, y_test = train_test_split(X, y, stratify=y, test_size=0.2, random_state=42)"
   ]
  },
  {
   "cell_type": "code",
   "execution_count": 34,
   "metadata": {},
   "outputs": [],
   "source": [
    "scaler = StandardScaler()"
   ]
  },
  {
   "cell_type": "code",
   "execution_count": 35,
   "metadata": {},
   "outputs": [],
   "source": [
    "X_train = scaler.fit_transform(X_train)\n",
    "X_test = scaler.transform(X_test)\n",
    "\n",
    "X_train = pd.DataFrame(X_train, columns = X.columns)\n",
    "X_test = pd.DataFrame(X_test, columns = X.columns)"
   ]
  },
  {
   "cell_type": "markdown",
   "metadata": {},
   "source": [
    "## LogisticRegression"
   ]
  },
  {
   "cell_type": "code",
   "execution_count": 39,
   "metadata": {},
   "outputs": [],
   "source": [
    "# Setting up grid search with LogisticRegression model\n",
    "\n",
    "lr = LogisticRegression()\n",
    "\n",
    "lr_params = {'C': np.logspace(-4, 4, 10),\n",
    "          'penalty': ['l1', 'l2'],\n",
    "          'fit_intercept': [True, False],\n",
    "          'solver': ['liblinear','lbfgs', 'saga']}\n",
    "\n",
    "gs_lr = GridSearchCV(estimator=lr,\n",
    "                     param_grid=lr_params,\n",
    "                     cv=5,\n",
    "                     verbose = 1,\n",
    "                    n_jobs = 2)"
   ]
  },
  {
   "cell_type": "code",
   "execution_count": 40,
   "metadata": {},
   "outputs": [
    {
     "name": "stdout",
     "output_type": "stream",
     "text": [
      "Fitting 5 folds for each of 120 candidates, totalling 600 fits\n"
     ]
    },
    {
     "name": "stderr",
     "output_type": "stream",
     "text": [
      "[Parallel(n_jobs=2)]: Using backend LokyBackend with 2 concurrent workers.\n",
      "[Parallel(n_jobs=2)]: Done 584 tasks      | elapsed:    4.6s\n",
      "[Parallel(n_jobs=2)]: Done 600 out of 600 | elapsed:    4.8s finished\n"
     ]
    },
    {
     "data": {
      "text/plain": [
       "GridSearchCV(cv=5, error_score=nan,\n",
       "             estimator=LogisticRegression(C=1.0, class_weight=None, dual=False,\n",
       "                                          fit_intercept=True,\n",
       "                                          intercept_scaling=1, l1_ratio=None,\n",
       "                                          max_iter=100, multi_class='auto',\n",
       "                                          n_jobs=None, penalty='l2',\n",
       "                                          random_state=None, solver='lbfgs',\n",
       "                                          tol=0.0001, verbose=0,\n",
       "                                          warm_start=False),\n",
       "             iid='deprecated', n_jobs=2,\n",
       "             param_grid={'C': array([1.00000000e-04, 7.74263683e-04, 5.99484250e-03, 4.64158883e-02,\n",
       "       3.59381366e-01, 2.78255940e+00, 2.15443469e+01, 1.66810054e+02,\n",
       "       1.29154967e+03, 1.00000000e+04]),\n",
       "                         'fit_intercept': [True, False],\n",
       "                         'penalty': ['l1', 'l2'],\n",
       "                         'solver': ['liblinear', 'lbfgs', 'saga']},\n",
       "             pre_dispatch='2*n_jobs', refit=True, return_train_score=False,\n",
       "             scoring=None, verbose=1)"
      ]
     },
     "execution_count": 40,
     "metadata": {},
     "output_type": "execute_result"
    }
   ],
   "source": [
    "gs_lr.fit(X_train,y_train)"
   ]
  },
  {
   "cell_type": "code",
   "execution_count": 41,
   "metadata": {},
   "outputs": [
    {
     "name": "stdout",
     "output_type": "stream",
     "text": [
      "Best Parameters:\n",
      "{'C': 0.3593813663804626, 'fit_intercept': True, 'penalty': 'l1', 'solver': 'liblinear'}\n",
      "Best estimator C:\n",
      "0.3593813663804626\n",
      "Best estimator mean cross validated training score:\n",
      "0.5710526315789475\n",
      "Best estimator score on the full training set:\n",
      "0.6473684210526316\n",
      "Best estimator score on the test set:\n",
      "0.5052631578947369\n",
      "Best estimator coefficients:\n",
      "[[ 0.         -0.08185477 -0.08185874  0.          0.24711222  0.\n",
      "  -0.23846642  0.28820563  0.17405902 -0.12795825 -0.05967671  0.\n",
      "   0.          0.03101342 -0.01488322 -0.08185543 -0.31651685  0.\n",
      "  -0.00795221  0.11340654  0.          0.         -0.23846721 -0.14308234\n",
      "   0.         -0.08185679 -0.06610624 -0.01488364 -0.08185678  0.08094228\n",
      "   0.          0.          0.03147316 -0.08185876 -0.08185543 -0.0148814\n",
      "   0.         -0.0061724   0.03641229  0.          0.00661326  0.\n",
      "  -0.01488733  0.10206726  0.10206979  0.30907662  0.04558786  0.        ]]\n"
     ]
    }
   ],
   "source": [
    "#Extracting grid search results\n",
    "\n",
    "print('Best Parameters:')\n",
    "print(gs_lr.best_params_)\n",
    "print('Best estimator C:')\n",
    "print(gs_lr.best_estimator_.C)\n",
    "print('Best estimator mean cross validated training score:')\n",
    "print(gs_lr.best_score_)\n",
    "print('Best estimator score on the full training set:')\n",
    "print(gs_lr.score(X_train, y_train))\n",
    "print('Best estimator score on the test set:')\n",
    "print(gs_lr.score(X_test, y_test))\n",
    "print('Best estimator coefficients:')\n",
    "print(gs_lr.best_estimator_.coef_)"
   ]
  },
  {
   "cell_type": "code",
   "execution_count": 42,
   "metadata": {},
   "outputs": [
    {
     "data": {
      "text/html": [
       "<div>\n",
       "<style scoped>\n",
       "    .dataframe tbody tr th:only-of-type {\n",
       "        vertical-align: middle;\n",
       "    }\n",
       "\n",
       "    .dataframe tbody tr th {\n",
       "        vertical-align: top;\n",
       "    }\n",
       "\n",
       "    .dataframe thead th {\n",
       "        text-align: right;\n",
       "    }\n",
       "</style>\n",
       "<table border=\"1\" class=\"dataframe\">\n",
       "  <thead>\n",
       "    <tr style=\"text-align: right;\">\n",
       "      <th></th>\n",
       "      <th>coeff</th>\n",
       "    </tr>\n",
       "  </thead>\n",
       "  <tbody>\n",
       "    <tr>\n",
       "      <th>Remote</th>\n",
       "      <td>0.309077</td>\n",
       "    </tr>\n",
       "    <tr>\n",
       "      <th>DC</th>\n",
       "      <td>0.288206</td>\n",
       "    </tr>\n",
       "    <tr>\n",
       "      <th>CA</th>\n",
       "      <td>0.247112</td>\n",
       "    </tr>\n",
       "    <tr>\n",
       "      <th>DE</th>\n",
       "      <td>0.174059</td>\n",
       "    </tr>\n",
       "    <tr>\n",
       "      <th>MD</th>\n",
       "      <td>0.113407</td>\n",
       "    </tr>\n",
       "    <tr>\n",
       "      <th>Massachusetts</th>\n",
       "      <td>0.102070</td>\n",
       "    </tr>\n",
       "    <tr>\n",
       "      <th>Maryland</th>\n",
       "      <td>0.102067</td>\n",
       "    </tr>\n",
       "    <tr>\n",
       "      <th>NY</th>\n",
       "      <td>0.080942</td>\n",
       "    </tr>\n",
       "    <tr>\n",
       "      <th>United States</th>\n",
       "      <td>0.045588</td>\n",
       "    </tr>\n",
       "    <tr>\n",
       "      <th>UT</th>\n",
       "      <td>0.036412</td>\n",
       "    </tr>\n",
       "    <tr>\n",
       "      <th>PA</th>\n",
       "      <td>0.031473</td>\n",
       "    </tr>\n",
       "    <tr>\n",
       "      <th>IL</th>\n",
       "      <td>0.031013</td>\n",
       "    </tr>\n",
       "    <tr>\n",
       "      <th>WA</th>\n",
       "      <td>0.006613</td>\n",
       "    </tr>\n",
       "    <tr>\n",
       "      <th>VA</th>\n",
       "      <td>0.000000</td>\n",
       "    </tr>\n",
       "    <tr>\n",
       "      <th>TN</th>\n",
       "      <td>0.000000</td>\n",
       "    </tr>\n",
       "    <tr>\n",
       "      <th>MN</th>\n",
       "      <td>0.000000</td>\n",
       "    </tr>\n",
       "    <tr>\n",
       "      <th>OR</th>\n",
       "      <td>0.000000</td>\n",
       "    </tr>\n",
       "    <tr>\n",
       "      <th>OH</th>\n",
       "      <td>0.000000</td>\n",
       "    </tr>\n",
       "    <tr>\n",
       "      <th>WI</th>\n",
       "      <td>0.000000</td>\n",
       "    </tr>\n",
       "    <tr>\n",
       "      <th>AK</th>\n",
       "      <td>0.000000</td>\n",
       "    </tr>\n",
       "    <tr>\n",
       "      <th>NC</th>\n",
       "      <td>0.000000</td>\n",
       "    </tr>\n",
       "    <tr>\n",
       "      <th>MI</th>\n",
       "      <td>0.000000</td>\n",
       "    </tr>\n",
       "    <tr>\n",
       "      <th>LA</th>\n",
       "      <td>0.000000</td>\n",
       "    </tr>\n",
       "    <tr>\n",
       "      <th>AZ</th>\n",
       "      <td>0.000000</td>\n",
       "    </tr>\n",
       "    <tr>\n",
       "      <th>CO</th>\n",
       "      <td>0.000000</td>\n",
       "    </tr>\n",
       "    <tr>\n",
       "      <th>IA</th>\n",
       "      <td>0.000000</td>\n",
       "    </tr>\n",
       "    <tr>\n",
       "      <th>ID</th>\n",
       "      <td>0.000000</td>\n",
       "    </tr>\n",
       "    <tr>\n",
       "      <th>Washington State</th>\n",
       "      <td>0.000000</td>\n",
       "    </tr>\n",
       "    <tr>\n",
       "      <th>TX</th>\n",
       "      <td>-0.006172</td>\n",
       "    </tr>\n",
       "    <tr>\n",
       "      <th>MA</th>\n",
       "      <td>-0.007952</td>\n",
       "    </tr>\n",
       "    <tr>\n",
       "      <th>SC</th>\n",
       "      <td>-0.014881</td>\n",
       "    </tr>\n",
       "    <tr>\n",
       "      <th>IN</th>\n",
       "      <td>-0.014883</td>\n",
       "    </tr>\n",
       "    <tr>\n",
       "      <th>NM</th>\n",
       "      <td>-0.014884</td>\n",
       "    </tr>\n",
       "    <tr>\n",
       "      <th>WV</th>\n",
       "      <td>-0.014887</td>\n",
       "    </tr>\n",
       "    <tr>\n",
       "      <th>GA</th>\n",
       "      <td>-0.059677</td>\n",
       "    </tr>\n",
       "    <tr>\n",
       "      <th>NJ</th>\n",
       "      <td>-0.066106</td>\n",
       "    </tr>\n",
       "    <tr>\n",
       "      <th>AL</th>\n",
       "      <td>-0.081855</td>\n",
       "    </tr>\n",
       "    <tr>\n",
       "      <th>KS</th>\n",
       "      <td>-0.081855</td>\n",
       "    </tr>\n",
       "    <tr>\n",
       "      <th>RI</th>\n",
       "      <td>-0.081855</td>\n",
       "    </tr>\n",
       "    <tr>\n",
       "      <th>NV</th>\n",
       "      <td>-0.081857</td>\n",
       "    </tr>\n",
       "    <tr>\n",
       "      <th>NE</th>\n",
       "      <td>-0.081857</td>\n",
       "    </tr>\n",
       "    <tr>\n",
       "      <th>AR</th>\n",
       "      <td>-0.081859</td>\n",
       "    </tr>\n",
       "    <tr>\n",
       "      <th>PR</th>\n",
       "      <td>-0.081859</td>\n",
       "    </tr>\n",
       "    <tr>\n",
       "      <th>FL</th>\n",
       "      <td>-0.127958</td>\n",
       "    </tr>\n",
       "    <tr>\n",
       "      <th>MS</th>\n",
       "      <td>-0.143082</td>\n",
       "    </tr>\n",
       "    <tr>\n",
       "      <th>CT</th>\n",
       "      <td>-0.238466</td>\n",
       "    </tr>\n",
       "    <tr>\n",
       "      <th>MO</th>\n",
       "      <td>-0.238467</td>\n",
       "    </tr>\n",
       "    <tr>\n",
       "      <th>KY</th>\n",
       "      <td>-0.316517</td>\n",
       "    </tr>\n",
       "  </tbody>\n",
       "</table>\n",
       "</div>"
      ],
      "text/plain": [
       "                     coeff\n",
       "Remote            0.309077\n",
       " DC               0.288206\n",
       " CA               0.247112\n",
       " DE               0.174059\n",
       " MD               0.113407\n",
       "Massachusetts     0.102070\n",
       "Maryland          0.102067\n",
       " NY               0.080942\n",
       "United States     0.045588\n",
       " UT               0.036412\n",
       " PA               0.031473\n",
       " IL               0.031013\n",
       " WA               0.006613\n",
       " VA               0.000000\n",
       " TN               0.000000\n",
       " MN               0.000000\n",
       " OR               0.000000\n",
       " OH               0.000000\n",
       " WI               0.000000\n",
       " AK               0.000000\n",
       " NC               0.000000\n",
       " MI               0.000000\n",
       " LA               0.000000\n",
       " AZ               0.000000\n",
       " CO               0.000000\n",
       " IA               0.000000\n",
       " ID               0.000000\n",
       "Washington State  0.000000\n",
       " TX              -0.006172\n",
       " MA              -0.007952\n",
       " SC              -0.014881\n",
       " IN              -0.014883\n",
       " NM              -0.014884\n",
       " WV              -0.014887\n",
       " GA              -0.059677\n",
       " NJ              -0.066106\n",
       " AL              -0.081855\n",
       " KS              -0.081855\n",
       " RI              -0.081855\n",
       " NV              -0.081857\n",
       " NE              -0.081857\n",
       " AR              -0.081859\n",
       " PR              -0.081859\n",
       " FL              -0.127958\n",
       " MS              -0.143082\n",
       " CT              -0.238466\n",
       " MO              -0.238467\n",
       " KY              -0.316517"
      ]
     },
     "execution_count": 42,
     "metadata": {},
     "output_type": "execute_result"
    }
   ],
   "source": [
    "pd.DataFrame(gs_lr.best_estimator_.coef_, columns = [X_train.columns], index = ['coeff']).T.sort_values('coeff', ascending = False)"
   ]
  },
  {
   "cell_type": "markdown",
   "metadata": {},
   "source": [
    "## DecisionTree"
   ]
  },
  {
   "cell_type": "code",
   "execution_count": 43,
   "metadata": {},
   "outputs": [],
   "source": [
    "from sklearn.ensemble import GradientBoostingClassifier\n",
    "from sklearn.tree import DecisionTreeClassifier"
   ]
  },
  {
   "cell_type": "code",
   "execution_count": 44,
   "metadata": {},
   "outputs": [],
   "source": [
    "# Setting up grid search with DecisionTree model\n",
    "\n",
    "dtc = DecisionTreeClassifier()\n",
    "\n",
    "dtc_params = {\n",
    "    'max_depth': list(range(1, 10))+[None],\n",
    "    'criterion': ['gini', 'entropy'],\n",
    "    'max_features': list(range(1, 10))+[None],\n",
    "    'min_samples_split': [2, 3, 4, 5, 10, 15, 20, 25, 30, 40, 50],\n",
    "    'ccp_alpha': [0, 0.001, 0.005, 0.01]\n",
    "}\n",
    "\n",
    "\n",
    "gs_dtc = GridSearchCV(dtc, dtc_params, cv=5, verbose=1, n_jobs=2)"
   ]
  },
  {
   "cell_type": "code",
   "execution_count": 45,
   "metadata": {},
   "outputs": [
    {
     "name": "stdout",
     "output_type": "stream",
     "text": [
      "Fitting 5 folds for each of 8800 candidates, totalling 44000 fits\n"
     ]
    },
    {
     "name": "stderr",
     "output_type": "stream",
     "text": [
      "[Parallel(n_jobs=2)]: Using backend LokyBackend with 2 concurrent workers.\n",
      "[Parallel(n_jobs=2)]: Done 1660 tasks      | elapsed:    2.1s\n",
      "[Parallel(n_jobs=2)]: Done 11260 tasks      | elapsed:   14.4s\n",
      "[Parallel(n_jobs=2)]: Done 27260 tasks      | elapsed:   35.4s\n",
      "[Parallel(n_jobs=2)]: Done 44000 out of 44000 | elapsed:   57.3s finished\n"
     ]
    },
    {
     "data": {
      "text/plain": [
       "GridSearchCV(cv=5, error_score=nan,\n",
       "             estimator=DecisionTreeClassifier(ccp_alpha=0.0, class_weight=None,\n",
       "                                              criterion='gini', max_depth=None,\n",
       "                                              max_features=None,\n",
       "                                              max_leaf_nodes=None,\n",
       "                                              min_impurity_decrease=0.0,\n",
       "                                              min_impurity_split=None,\n",
       "                                              min_samples_leaf=1,\n",
       "                                              min_samples_split=2,\n",
       "                                              min_weight_fraction_leaf=0.0,\n",
       "                                              presort='deprecated',\n",
       "                                              random_state=None,\n",
       "                                              splitter='best'),\n",
       "             iid='deprecated', n_jobs=2,\n",
       "             param_grid={'ccp_alpha': [0, 0.001, 0.005, 0.01],\n",
       "                         'criterion': ['gini', 'entropy'],\n",
       "                         'max_depth': [1, 2, 3, 4, 5, 6, 7, 8, 9, None],\n",
       "                         'max_features': [1, 2, 3, 4, 5, 6, 7, 8, 9, None],\n",
       "                         'min_samples_split': [2, 3, 4, 5, 10, 15, 20, 25, 30,\n",
       "                                               40, 50]},\n",
       "             pre_dispatch='2*n_jobs', refit=True, return_train_score=False,\n",
       "             scoring=None, verbose=1)"
      ]
     },
     "execution_count": 45,
     "metadata": {},
     "output_type": "execute_result"
    }
   ],
   "source": [
    "gs_dtc.fit(X_train, y_train)"
   ]
  },
  {
   "cell_type": "code",
   "execution_count": 46,
   "metadata": {},
   "outputs": [
    {
     "data": {
      "text/plain": [
       "DecisionTreeClassifier(ccp_alpha=0.005, class_weight=None, criterion='entropy',\n",
       "                       max_depth=None, max_features=6, max_leaf_nodes=None,\n",
       "                       min_impurity_decrease=0.0, min_impurity_split=None,\n",
       "                       min_samples_leaf=1, min_samples_split=40,\n",
       "                       min_weight_fraction_leaf=0.0, presort='deprecated',\n",
       "                       random_state=None, splitter='best')"
      ]
     },
     "execution_count": 46,
     "metadata": {},
     "output_type": "execute_result"
    }
   ],
   "source": [
    "gs_dtc.best_estimator_"
   ]
  },
  {
   "cell_type": "code",
   "execution_count": 47,
   "metadata": {},
   "outputs": [
    {
     "name": "stdout",
     "output_type": "stream",
     "text": [
      "Best Parameters:\n",
      "{'ccp_alpha': 0.005, 'criterion': 'entropy', 'max_depth': None, 'max_features': 6, 'min_samples_split': 40}\n",
      "Best estimator mean cross validated training score:\n",
      "0.6078947368421053\n",
      "Best estimator score on the full training set:\n",
      "0.5710526315789474\n",
      "Best estimator score on the test set:\n",
      "0.45263157894736844\n"
     ]
    }
   ],
   "source": [
    "#Extracting grid search results\n",
    "\n",
    "print('Best Parameters:')\n",
    "print(gs_dtc.best_params_)\n",
    "print('Best estimator mean cross validated training score:')\n",
    "print(gs_dtc.best_score_)\n",
    "print('Best estimator score on the full training set:')\n",
    "print(gs_dtc.score(X_train, y_train))\n",
    "print('Best estimator score on the test set:')\n",
    "print(gs_dtc.score(X_test, y_test))"
   ]
  },
  {
   "cell_type": "markdown",
   "metadata": {},
   "source": [
    "## RandomForest"
   ]
  },
  {
   "cell_type": "code",
   "execution_count": 49,
   "metadata": {},
   "outputs": [],
   "source": [
    "from sklearn.ensemble import RandomForestClassifier"
   ]
  },
  {
   "cell_type": "code",
   "execution_count": 50,
   "metadata": {},
   "outputs": [],
   "source": [
    "# setting grid search with RandomForest model\n",
    "\n",
    "rfc = RandomForestClassifier()\n",
    "\n",
    "rfc_params = {'max_depth':range(1,20),\n",
    "          'max_features':[\"auto\",\"log2\",0.5, 0.8],\n",
    "         'criterion':['gini','entropy'],\n",
    "         'bootstrap':[True,False]}\n",
    "\n",
    "gs_rfc = GridSearchCV(estimator=rfc,\n",
    "                     param_grid=rfc_params,\n",
    "                     cv=5,\n",
    "                     verbose = 1,\n",
    "                    n_jobs = 2)"
   ]
  },
  {
   "cell_type": "code",
   "execution_count": 51,
   "metadata": {},
   "outputs": [
    {
     "name": "stdout",
     "output_type": "stream",
     "text": [
      "Fitting 5 folds for each of 304 candidates, totalling 1520 fits\n"
     ]
    },
    {
     "name": "stderr",
     "output_type": "stream",
     "text": [
      "[Parallel(n_jobs=2)]: Using backend LokyBackend with 2 concurrent workers.\n",
      "[Parallel(n_jobs=2)]: Done  88 tasks      | elapsed:    5.8s\n",
      "[Parallel(n_jobs=2)]: Done 388 tasks      | elapsed:   27.4s\n",
      "[Parallel(n_jobs=2)]: Done 888 tasks      | elapsed:  1.0min\n",
      "[Parallel(n_jobs=2)]: Done 1520 out of 1520 | elapsed:  1.7min finished\n"
     ]
    },
    {
     "data": {
      "text/plain": [
       "GridSearchCV(cv=5, error_score=nan,\n",
       "             estimator=RandomForestClassifier(bootstrap=True, ccp_alpha=0.0,\n",
       "                                              class_weight=None,\n",
       "                                              criterion='gini', max_depth=None,\n",
       "                                              max_features='auto',\n",
       "                                              max_leaf_nodes=None,\n",
       "                                              max_samples=None,\n",
       "                                              min_impurity_decrease=0.0,\n",
       "                                              min_impurity_split=None,\n",
       "                                              min_samples_leaf=1,\n",
       "                                              min_samples_split=2,\n",
       "                                              min_weight_fraction_leaf=0.0,\n",
       "                                              n_estimators=100, n_jobs=None,\n",
       "                                              oob_score=False,\n",
       "                                              random_state=None, verbose=0,\n",
       "                                              warm_start=False),\n",
       "             iid='deprecated', n_jobs=2,\n",
       "             param_grid={'bootstrap': [True, False],\n",
       "                         'criterion': ['gini', 'entropy'],\n",
       "                         'max_depth': range(1, 20),\n",
       "                         'max_features': ['auto', 'log2', 0.5, 0.8]},\n",
       "             pre_dispatch='2*n_jobs', refit=True, return_train_score=False,\n",
       "             scoring=None, verbose=1)"
      ]
     },
     "execution_count": 51,
     "metadata": {},
     "output_type": "execute_result"
    }
   ],
   "source": [
    "gs_rfc.fit(X_train, y_train)"
   ]
  },
  {
   "cell_type": "code",
   "execution_count": 52,
   "metadata": {},
   "outputs": [
    {
     "name": "stdout",
     "output_type": "stream",
     "text": [
      "Best Parameters:\n",
      "{'bootstrap': True, 'criterion': 'gini', 'max_depth': 3, 'max_features': 0.5}\n",
      "Best estimator CV score:\n",
      "0.6078947368421053\n",
      "Best estimator score on the full training set:\n",
      "0.6078947368421053\n",
      "Best estimator score on the test set:\n",
      "0.5473684210526316\n"
     ]
    }
   ],
   "source": [
    "# Extracting grid search results\n",
    "print('Best Parameters:')\n",
    "print(gs_rfc.best_params_)\n",
    "print('Best estimator CV score:')\n",
    "print(gs_rfc.best_score_)\n",
    "print('Best estimator score on the full training set:')\n",
    "print(gs_rfc.score(X_train, y_train))\n",
    "print('Best estimator score on the test set:')\n",
    "print(gs_rfc.score(X_test, y_test))"
   ]
  },
  {
   "cell_type": "markdown",
   "metadata": {},
   "source": [
    "## AdaBoost"
   ]
  },
  {
   "cell_type": "code",
   "execution_count": 53,
   "metadata": {},
   "outputs": [],
   "source": [
    "from sklearn.ensemble import AdaBoostClassifier"
   ]
  },
  {
   "cell_type": "code",
   "execution_count": 54,
   "metadata": {},
   "outputs": [
    {
     "name": "stdout",
     "output_type": "stream",
     "text": [
      "Best estimator mean cross validated training score:\n",
      "0.5947368421052631\n",
      "Best estimator score on the full training set:\n",
      "0.618421052631579\n",
      "Best estimator score on the test set:\n",
      "0.5578947368421052\n"
     ]
    }
   ],
   "source": [
    "ada_boost = AdaBoostClassifier(base_estimator=gs_dtc.best_estimator_,\n",
    "                           n_estimators=100,\n",
    "                           random_state=1)\n",
    "\n",
    "ada_boost.fit(X_train, y_train)\n",
    "\n",
    "\n",
    "print('Best estimator mean cross validated training score:')\n",
    "print(cross_val_score(ada_boost, X_train, y_train, cv=5).mean())\n",
    "print('Best estimator score on the full training set:')\n",
    "print(ada_boost.score(X_train, y_train))\n",
    "print('Best estimator score on the test set:')\n",
    "print(ada_boost.score(X_test, y_test))"
   ]
  },
  {
   "cell_type": "code",
   "execution_count": 55,
   "metadata": {},
   "outputs": [],
   "source": [
    "#CV of LogisticRegression with GridSearch: 0.5710526315789475\n",
    "#CV of DecisionTreeClassifier with GridSearch: 0.6078947368421053\n",
    "#CV of RandomForestClassifier with GridSearch: 0.6105263157894736\n",
    "#CV of AdaBoostClassifier with GridSearch:: 0.5842105263157895\n",
    "# Baseline accuracy: 0.5010526315789474"
   ]
  },
  {
   "cell_type": "code",
   "execution_count": 56,
   "metadata": {},
   "outputs": [
    {
     "data": {
      "text/plain": [
       "array(['Data Scientist - Fully Remote', 'Jr. Data Scientist',\n",
       "       'Data Scientist - Entry to Experienced Level', 'Data Scientist',\n",
       "       'Data Analyst/Data Scientist', 'AI Data Specialist',\n",
       "       'Analyst II, Data Science', 'Lead Data Scientist',\n",
       "       'Data Scientist (Secret Clearance required)',\n",
       "       'Statistical Data Analyst - Anesthesiology',\n",
       "       'STATISTICIAN (DATA SCIENTIST) (Data Scientist - Interdisciplinary)',\n",
       "       'Information Technology Specialist (Data Scientist)',\n",
       "       'Statistician (Data Scientist)',\n",
       "       'Senior Data Analyst (Risk adjustment and HEDIS experience)',\n",
       "       'Mathematical Statistician (Data Scientist)',\n",
       "       'Social Scientist (Data Scientist)',\n",
       "       'Senior Data Scientist/Analyst', 'Senior Data Analyst',\n",
       "       'Public Health Data Scientist',\n",
       "       'Data Scientist - Marketing/Advertising Optimization',\n",
       "       'Senior Data Analyst - SQL',\n",
       "       'Multiple Azure Data Engineering,Data Scientists Roles',\n",
       "       'Senior Data Scientist',\n",
       "       'Interdisciplinary Biologist/Physical Scientist (Data Scientist)',\n",
       "       'Data Science Intern', 'Machine Learning/AI Engineer',\n",
       "       'Data Science Manager', 'Data Scientist II',\n",
       "       'Data Analyst/Sr. Data Analyst', 'Sr. Data Analyst',\n",
       "       'Statistical Data Analyst - Ob/Gyn',\n",
       "       'Data Scientist, Senior Level (50-277)',\n",
       "       'Survey Statistician, GG-1530-7/9/11/12, Census-MP-SAB',\n",
       "       'Data Science Resident', 'Supervisory Data Scientist',\n",
       "       'Data Scientist (Machine Learning) Lead', 'Statistical Programmer',\n",
       "       'Statistical Analyst', 'Statistician',\n",
       "       'Scientist - Robotics and Machine Learning',\n",
       "       'Software Developer - AI & ML (Remote/US/UK)',\n",
       "       'Supervisory Operations Research Analyst (Data Scientist)',\n",
       "       'Satellite Ground and Data Infrastructure Scientist',\n",
       "       'Senior Data Scientist - Risk',\n",
       "       'COVID-19 Epidemiologist: Senior Data Analyst - Visualization and Reporting',\n",
       "       'Lead Consultant - Data Science (Phoenix, Arizona)',\n",
       "       'Senior Statistician - Innovative Biopharma – Rayleigh, NC',\n",
       "       'Senior Director of Statistics – Innovative Biopharmaceutical - Rayleigh',\n",
       "       'Data Analyst', 'Junior Data Analyst',\n",
       "       'Jr. Data Reporting Analyst', 'Business Analyst - Data Analytics',\n",
       "       'Customer Support Data Analyst',\n",
       "       'Marketing Business Analytics Data Analyst', 'DATA ANALYST (1779)',\n",
       "       'Entry Level Business Analyst', 'Digital Media Data Analyst',\n",
       "       'SQL Data and Integration Analyst', 'Data Analyst with SQL',\n",
       "       'Business Data Analyst', 'Mid level Investment Business Analyst',\n",
       "       'Associate Data and GIS Analyst',\n",
       "       'Help Desk Analyst/Data Analytics', 'Remote Data Analyst',\n",
       "       'Business Analyst', 'Business Systems Data and Reporting Analyst',\n",
       "       'Data Analyst - Adult Education Program',\n",
       "       'Data Processing Analyst', 'Data Analyst - Finance',\n",
       "       'Jr. Financial Analyst', 'Healthcare Business Analyst',\n",
       "       'Data Analyst-Transportation Program Specialist 1',\n",
       "       'Business Intelligence Analyst', 'Data Analyst (Healthcare)',\n",
       "       'REMOTE Business Analyst', 'Data Analytics Specialist',\n",
       "       'HOUSING PLANNING AND ECONOMIC ANALYST 8504',\n",
       "       'Entry Level Analyst and Developer (STEM)',\n",
       "       'Risk Analyst - Department of Veterans Affairs',\n",
       "       'RPA Business Analyst', 'Program Analyst',\n",
       "       'Automotive Business Intelligence Analyst - Digital Marketer',\n",
       "       'Quality Analyst', 'Business Intelligence Dev/Analyst II',\n",
       "       'Data Quality Analyst II/UKHC',\n",
       "       'Analyst I, Discretionary Funds (226 Days)',\n",
       "       'Workday HRIS Reporting Analyst',\n",
       "       'Business Analyst for Aspergers Applicant', 'Financial Analyst',\n",
       "       'SQL Data Analyst/Developer', 'Lead Data Analyst',\n",
       "       'Division Data and Financial Analyst', 'Senate Council Analyst',\n",
       "       'BUSINESS ANALYST', 'Program Analyst (Data Analytics)',\n",
       "       'Business Analyst/Project Manager',\n",
       "       'Retail Data Analyst-Home Depot account',\n",
       "       'Sales Analyst/Data Guru/Excel Wizard', 'Marketing Analyst',\n",
       "       'Financial Planning Analyst',\n",
       "       'Non-IT Pharmaceutical Business Analyst',\n",
       "       'Sr. Quality Assurance Analyst', 'Mortgage Data Mapping Analyst',\n",
       "       'Data Engineer', 'EMC Avamar Data Engineer',\n",
       "       'Data Analytics Engineer', 'Data Reporting Engineer',\n",
       "       'Big Data Engineer - C2C Accepted', 'Big Data Engineer',\n",
       "       'Junior Data Engineer', 'Data Engineer - Remote with Prior Cisco',\n",
       "       'Microsoft Azure Data Engineer', 'IOT data Engineer',\n",
       "       'Sr. Data Engineer (LD)', 'Cloud Data Engineer',\n",
       "       'Big Data Engineer (internship)', 'Data Engineer and Integrator',\n",
       "       'Associate Scientist, SRNL', 'Senior Data Engineer',\n",
       "       'Data Engineer/ Accela',\n",
       "       'BIG Data Engineer (East Coast Time Zone - Remote)',\n",
       "       'Quality Engineer', 'Process Engineer',\n",
       "       'Data Center Services Engineer',\n",
       "       'Senior Full-Stack Developer / Engineer (Mobile & Web) - Fully Remote',\n",
       "       'Big Data Engineer-Hadoop',\n",
       "       'Data Engineer (Secret Clearance required)',\n",
       "       'Applications Engineer', 'Junior Product Engineer',\n",
       "       'Data Integration Engineer', 'Data Engineer II',\n",
       "       'Assistant Land Use Planner', 'Jr DevOps Engineer', 'R&D Engineer',\n",
       "       'Software Engineer', 'Process Engineer - Non Wovens',\n",
       "       'Associate Creative Director - Video Ads (Fully Remote, Work from Home)',\n",
       "       'Administrative Assistant (61036971)', 'Jr. Software Engineer',\n",
       "       'Sr. Data Engineer', 'Site Reliability Engineer II',\n",
       "       'NETWORK ENGINEER', 'Splunk Engineer, Jr.',\n",
       "       'Senior Cloud Data Engineer', 'Mechanical Engineer',\n",
       "       'Tooling Engineer', 'Technical Support Engineer',\n",
       "       'All-around badass apprentice with eyes on SaaS company leadership role',\n",
       "       'RAN Engineer', 'Product Engineer', 'Software Engineer - ID: 4464',\n",
       "       'Aerospace Engineer', 'Senior Automation Engineer',\n",
       "       'Engineer, R&D Tax Credits', 'Plant Engineer', 'Engineer',\n",
       "       'Backend Developer', 'Sr. Data Center Cloud Engineer - NASA',\n",
       "       'DevOps Engineer', 'Senior Data Engineer- AdTech',\n",
       "       'Software QA Engineer', 'Manufacturing Engineer',\n",
       "       'Information Security Assessor Junior Level',\n",
       "       'Entry Level Associate Software Engineer',\n",
       "       'Front End Software Engineer', 'React Software Engineer',\n",
       "       'Remote Elixir Software Engineer', 'Junior Software Engineer (C)',\n",
       "       'Entry Level Software Developer', 'Software Developer',\n",
       "       'Game Tester', 'Software Engineer, Full Stack',\n",
       "       'Software Engineer - React.js $100K-$150K',\n",
       "       'Jr. Software Development Engineer', 'Software Engineer (C++)',\n",
       "       'Golang Software Engineer', 'Software Developer (Entry-Level)',\n",
       "       'Software Engineer/Developer', 'Full Stack Software Engineer',\n",
       "       'Staff Software Engineer, Product', 'Junior Developer',\n",
       "       'Senior Software Engineer - API Platforms',\n",
       "       'Software Support Engineer', 'Space Systems Engineer - Software',\n",
       "       'Junior Software Engineer',\n",
       "       'Software Development Engineer- Angular',\n",
       "       'Junior Embedded Software Engineer', 'Software Engineers',\n",
       "       'Software Test Engineer', 'Software Engineer II',\n",
       "       'Lead Software Engineer', 'Software Engineer- IOT',\n",
       "       'Back-end Software Engineer', 'Research Software Engineer',\n",
       "       'C/C++ Engineer',\n",
       "       'Staff Software Engineer - Kubernetes Cluster Team',\n",
       "       'Entry Level Software Engineer (OIM-00041-2019)',\n",
       "       'Typescript/React Engineer (Fully Remote)',\n",
       "       'Software Engineer - .NET',\n",
       "       'Associate Software Developer (Local Applicants Only)',\n",
       "       'Software Development Engineer', 'Software/SQL Engineer',\n",
       "       'Software Integration Engineer', 'Project Software Engineer',\n",
       "       'Senior Software Engineer', 'Sr. Software Engineer',\n",
       "       'C# Software Developer', 'Embedded Software Engineer',\n",
       "       'GIS Application Developer', 'Jr. Software Developer',\n",
       "       'Web Developer', 'Java Developer (Irving, Texas)',\n",
       "       'Software Developer (3+ Years Professional Experience)',\n",
       "       'Software Engineer (Structural Engineering)',\n",
       "       'Software Engineer Manager',\n",
       "       'Product Development Software Engineer',\n",
       "       '$125k | Contract to Hire | REMOTE | Python/Scala Engineer',\n",
       "       'Junior Software Engineer (Python)',\n",
       "       'Fully Remote* Software Engineer', 'Manager, Software Engineering',\n",
       "       'Web Engineer', 'Firmware Engineer', 'Software Business Analyst',\n",
       "       'Agile Business Analyst',\n",
       "       'Oracle EBS Application Specialist / Business Analyst',\n",
       "       'Technical Business Analyst', 'Business Services Analyst',\n",
       "       'Business Systems Analyst', 'Junior Business Analyst',\n",
       "       'DocuSign/DMS Business Analyst',\n",
       "       'Business Consult/Analyst Specialist', 'Business Support Analyst',\n",
       "       'Business Analyst - Banking & Finance',\n",
       "       'Business Analyst w/ Zephyr Exp',\n",
       "       'Business Analyst Training and Placement (No C2C)',\n",
       "       'Management Analyst (Business Analyst)',\n",
       "       'Senior Business Intelligence Analyst',\n",
       "       'JR. SALESFORCE BUSINESS ANALYSTS – REMOTE',\n",
       "       'Senior Business Research Analyst', 'Sales Business Analyst',\n",
       "       'Information System/Business Analyst III / 61013750',\n",
       "       'Sales Financial Analyst',\n",
       "       'IT Business Analyst Training and Placement (No C2C)',\n",
       "       'Business Analyst/Princeton NJ/Full TIME',\n",
       "       'Job code: 19CAD23 Sr. Business Systems Analyst I',\n",
       "       'Business Technology Analyst', 'Business Analyst - Financial ERP',\n",
       "       'Entry Level BA', 'Business Analyst - 1593',\n",
       "       'Senior Business Analyst', 'IT Business Systems Analyst or Senior',\n",
       "       'Guidewire Billing Center Business Analyst',\n",
       "       'Radiology IS (Epic / PowerScribe / PACS) Business Systems Analyst_',\n",
       "       'Finance Business Analyst', 'Business Operations Analyst 1',\n",
       "       'Business Analyst (Power BI)', 'Lead Business Systems Analyst',\n",
       "       'Business Process Analyst/Accountant',\n",
       "       'Business Analyst/Fulltime-PERM/Princeton, NJ--ONLY USC',\n",
       "       'IT/ Business Analyst',\n",
       "       'Systems Analyst (SA) or Business Systems Analyst (BSA)',\n",
       "       'Business Systems Analyst I- Trainer',\n",
       "       'Business Analyst - Core Banking',\n",
       "       'HR Business Systems Analyst- Time and Labor',\n",
       "       'Paapri Business Analyst',\n",
       "       'Business Operations Analyst - Transportation Projects',\n",
       "       'Salesforce Business Analyst (Independent)',\n",
       "       'Business Data Analyst, Statistics / Database Management',\n",
       "       'Business Data Analyst, NEMSIS', 'Business Analyst I',\n",
       "       'Business Intelligence Architect',\n",
       "       'BUSINESS INTELLIGENCE SPEC-10282020-12226',\n",
       "       'Strategic Business Manager - Remote',\n",
       "       'Senior Manager of Business Insights and Analytics',\n",
       "       'Business Intelligent Developer',\n",
       "       'Business Intelligence Developer', 'Fusion Intelligence Analyst',\n",
       "       'Senior Enterprise Analytics Analyst', 'Crime Analyst I',\n",
       "       'Project Manager - Remote', 'Performance Analyst',\n",
       "       'VP Omni Channel Analytics', 'Signals Intelligence Analyst (35N)',\n",
       "       'Opportunities in Microsoft BI and Data Analysis for Fresh Graduates',\n",
       "       'Database Developer', '35F Intelligence Analyst',\n",
       "       'Senior Director - PreSales',\n",
       "       'Business Operations Analyst - Transportation',\n",
       "       'Executive Assistant - Mobility Services', 'Front End Developer',\n",
       "       'BI DEVELOPER - DENVER BASED',\n",
       "       'Artificial Intelligence/Machine Learning Specialist',\n",
       "       'Mid Level PAI Intelligence Analyst - Publicly Available Information',\n",
       "       'IT Business Intelligence (BI) Lead Project Analyst/Engineer',\n",
       "       'Intelligence Specialist (GMI Analyst)', 'Analyst',\n",
       "       'Power BI Developer', 'Digital Marketing Strategist',\n",
       "       'Counterterrorism Intelligence Analyst/Watch Officer',\n",
       "       'Senior Project Lead',\n",
       "       'Associate, Digital Design (Digital Illustrations, UI/UX, Consulting)',\n",
       "       'DHS Intelligence Analyst',\n",
       "       'Senior Business Intelligence Analyst (Power BI experience)',\n",
       "       'DHS CWMD Senior Intelligence Analyst',\n",
       "       'Analyst - Economics or Planning', 'Developer I',\n",
       "       'Sr Accounting Processor - Accounts Payable', 'Product Manager',\n",
       "       'SIGNALS INTELLIGENCE ANALYST', 'Reporting Analyst',\n",
       "       'Senior Level Intelligence Analyst/Military Specialist',\n",
       "       'Sales Account Manager (Domestic & International)',\n",
       "       'Data Architect Senior', 'BI/UI Developer', 'Data Analytics',\n",
       "       'Data & Analytics Specialist', 'Business Operations Coord',\n",
       "       'Cryptologic Cyberspace Intelligence Collector / Analyst',\n",
       "       'Software Programmer',\n",
       "       'Software Developer (.NET) Opportunities for Entry-Level Candidates',\n",
       "       'Hacedor', 'Sr. Data Developer', 'Concur Technician'], dtype=object)"
      ]
     },
     "execution_count": 56,
     "metadata": {},
     "output_type": "execute_result"
    }
   ],
   "source": [
    "df.title.unique()"
   ]
  },
  {
   "cell_type": "code",
   "execution_count": 57,
   "metadata": {},
   "outputs": [],
   "source": [
    "#I will categorise job titles and companies by key words eventually joining them into a single dataframe that I will use for my predictions.\n",
    "#Most common key words in job titles.\n",
    "job_categories = ['director', 'analyst', 'scientist', 'engineer', 'business', 'consultant', 'senior', 'junior', \n",
    "                  'manager', 'developer', 'head', 'programmer', 'executive', 'java', 'python', 'lead',\n",
    "                  'intelligence', 'machine learning', 'engineer', 'graduate', 'research', 'intern', 'architect', 'intelligence']"
   ]
  },
  {
   "cell_type": "code",
   "execution_count": 58,
   "metadata": {},
   "outputs": [],
   "source": [
    "df_categories = pd.DataFrame(columns = job_categories )"
   ]
  },
  {
   "cell_type": "code",
   "execution_count": 59,
   "metadata": {},
   "outputs": [],
   "source": [
    "for job in job_categories:\n",
    "    df_categories[job] = df.title.map(lambda x: 1 if job.lower() in x.lower() else 0)"
   ]
  },
  {
   "cell_type": "code",
   "execution_count": 60,
   "metadata": {},
   "outputs": [
    {
     "data": {
      "text/html": [
       "<div>\n",
       "<style scoped>\n",
       "    .dataframe tbody tr th:only-of-type {\n",
       "        vertical-align: middle;\n",
       "    }\n",
       "\n",
       "    .dataframe tbody tr th {\n",
       "        vertical-align: top;\n",
       "    }\n",
       "\n",
       "    .dataframe thead th {\n",
       "        text-align: right;\n",
       "    }\n",
       "</style>\n",
       "<table border=\"1\" class=\"dataframe\">\n",
       "  <thead>\n",
       "    <tr style=\"text-align: right;\">\n",
       "      <th></th>\n",
       "      <th>director</th>\n",
       "      <th>analyst</th>\n",
       "      <th>scientist</th>\n",
       "      <th>engineer</th>\n",
       "      <th>business</th>\n",
       "      <th>consultant</th>\n",
       "      <th>senior</th>\n",
       "      <th>junior</th>\n",
       "      <th>manager</th>\n",
       "      <th>developer</th>\n",
       "      <th>...</th>\n",
       "      <th>python</th>\n",
       "      <th>lead</th>\n",
       "      <th>intelligence</th>\n",
       "      <th>machine learning</th>\n",
       "      <th>engineer</th>\n",
       "      <th>graduate</th>\n",
       "      <th>research</th>\n",
       "      <th>intern</th>\n",
       "      <th>architect</th>\n",
       "      <th>intelligence</th>\n",
       "    </tr>\n",
       "  </thead>\n",
       "  <tbody>\n",
       "    <tr>\n",
       "      <th>0</th>\n",
       "      <td>0</td>\n",
       "      <td>0</td>\n",
       "      <td>1</td>\n",
       "      <td>0</td>\n",
       "      <td>0</td>\n",
       "      <td>0</td>\n",
       "      <td>0</td>\n",
       "      <td>0</td>\n",
       "      <td>0</td>\n",
       "      <td>0</td>\n",
       "      <td>...</td>\n",
       "      <td>0</td>\n",
       "      <td>0</td>\n",
       "      <td>0</td>\n",
       "      <td>0</td>\n",
       "      <td>0</td>\n",
       "      <td>0</td>\n",
       "      <td>0</td>\n",
       "      <td>0</td>\n",
       "      <td>0</td>\n",
       "      <td>0</td>\n",
       "    </tr>\n",
       "    <tr>\n",
       "      <th>1</th>\n",
       "      <td>0</td>\n",
       "      <td>0</td>\n",
       "      <td>1</td>\n",
       "      <td>0</td>\n",
       "      <td>0</td>\n",
       "      <td>0</td>\n",
       "      <td>0</td>\n",
       "      <td>0</td>\n",
       "      <td>0</td>\n",
       "      <td>0</td>\n",
       "      <td>...</td>\n",
       "      <td>0</td>\n",
       "      <td>0</td>\n",
       "      <td>0</td>\n",
       "      <td>0</td>\n",
       "      <td>0</td>\n",
       "      <td>0</td>\n",
       "      <td>0</td>\n",
       "      <td>0</td>\n",
       "      <td>0</td>\n",
       "      <td>0</td>\n",
       "    </tr>\n",
       "    <tr>\n",
       "      <th>2</th>\n",
       "      <td>0</td>\n",
       "      <td>0</td>\n",
       "      <td>1</td>\n",
       "      <td>0</td>\n",
       "      <td>0</td>\n",
       "      <td>0</td>\n",
       "      <td>0</td>\n",
       "      <td>0</td>\n",
       "      <td>0</td>\n",
       "      <td>0</td>\n",
       "      <td>...</td>\n",
       "      <td>0</td>\n",
       "      <td>0</td>\n",
       "      <td>0</td>\n",
       "      <td>0</td>\n",
       "      <td>0</td>\n",
       "      <td>0</td>\n",
       "      <td>0</td>\n",
       "      <td>0</td>\n",
       "      <td>0</td>\n",
       "      <td>0</td>\n",
       "    </tr>\n",
       "    <tr>\n",
       "      <th>3</th>\n",
       "      <td>0</td>\n",
       "      <td>0</td>\n",
       "      <td>1</td>\n",
       "      <td>0</td>\n",
       "      <td>0</td>\n",
       "      <td>0</td>\n",
       "      <td>0</td>\n",
       "      <td>0</td>\n",
       "      <td>0</td>\n",
       "      <td>0</td>\n",
       "      <td>...</td>\n",
       "      <td>0</td>\n",
       "      <td>0</td>\n",
       "      <td>0</td>\n",
       "      <td>0</td>\n",
       "      <td>0</td>\n",
       "      <td>0</td>\n",
       "      <td>0</td>\n",
       "      <td>0</td>\n",
       "      <td>0</td>\n",
       "      <td>0</td>\n",
       "    </tr>\n",
       "    <tr>\n",
       "      <th>4</th>\n",
       "      <td>0</td>\n",
       "      <td>1</td>\n",
       "      <td>1</td>\n",
       "      <td>0</td>\n",
       "      <td>0</td>\n",
       "      <td>0</td>\n",
       "      <td>0</td>\n",
       "      <td>0</td>\n",
       "      <td>0</td>\n",
       "      <td>0</td>\n",
       "      <td>...</td>\n",
       "      <td>0</td>\n",
       "      <td>0</td>\n",
       "      <td>0</td>\n",
       "      <td>0</td>\n",
       "      <td>0</td>\n",
       "      <td>0</td>\n",
       "      <td>0</td>\n",
       "      <td>0</td>\n",
       "      <td>0</td>\n",
       "      <td>0</td>\n",
       "    </tr>\n",
       "  </tbody>\n",
       "</table>\n",
       "<p>5 rows × 24 columns</p>\n",
       "</div>"
      ],
      "text/plain": [
       "   director  analyst  scientist  engineer  business  consultant  senior  \\\n",
       "0         0        0          1         0         0           0       0   \n",
       "1         0        0          1         0         0           0       0   \n",
       "2         0        0          1         0         0           0       0   \n",
       "3         0        0          1         0         0           0       0   \n",
       "4         0        1          1         0         0           0       0   \n",
       "\n",
       "   junior  manager  developer  ...  python  lead  intelligence  \\\n",
       "0       0        0          0  ...       0     0             0   \n",
       "1       0        0          0  ...       0     0             0   \n",
       "2       0        0          0  ...       0     0             0   \n",
       "3       0        0          0  ...       0     0             0   \n",
       "4       0        0          0  ...       0     0             0   \n",
       "\n",
       "   machine learning  engineer  graduate  research  intern  architect  \\\n",
       "0                 0         0         0         0       0          0   \n",
       "1                 0         0         0         0       0          0   \n",
       "2                 0         0         0         0       0          0   \n",
       "3                 0         0         0         0       0          0   \n",
       "4                 0         0         0         0       0          0   \n",
       "\n",
       "   intelligence  \n",
       "0             0  \n",
       "1             0  \n",
       "2             0  \n",
       "3             0  \n",
       "4             0  \n",
       "\n",
       "[5 rows x 24 columns]"
      ]
     },
     "execution_count": 60,
     "metadata": {},
     "output_type": "execute_result"
    }
   ],
   "source": [
    "df_categories.head()"
   ]
  },
  {
   "cell_type": "code",
   "execution_count": 61,
   "metadata": {},
   "outputs": [
    {
     "data": {
      "text/plain": [
       "(475, 24)"
      ]
     },
     "execution_count": 61,
     "metadata": {},
     "output_type": "execute_result"
    }
   ],
   "source": [
    "df_categories.shape"
   ]
  },
  {
   "cell_type": "code",
   "execution_count": 62,
   "metadata": {},
   "outputs": [
    {
     "data": {
      "text/plain": [
       "(475, 5)"
      ]
     },
     "execution_count": 62,
     "metadata": {},
     "output_type": "execute_result"
    }
   ],
   "source": [
    "df.shape"
   ]
  },
  {
   "cell_type": "code",
   "execution_count": 63,
   "metadata": {},
   "outputs": [
    {
     "data": {
      "image/png": "[encoded data removed]",
      "text/plain": [
       "<Figure size 432x288 with 1 Axes>"
      ]
     },
     "metadata": {
      "needs_background": "light"
     },
     "output_type": "display_data"
    }
   ],
   "source": [
    "df_categories.sum().plot(kind = 'bar');"
   ]
  },
  {
   "cell_type": "code",
   "execution_count": 64,
   "metadata": {},
   "outputs": [],
   "source": [
    "final_jobs = pd.concat([df[['salary_high_low']],X, df_categories], axis = 1 )"
   ]
  },
  {
   "cell_type": "code",
   "execution_count": 65,
   "metadata": {},
   "outputs": [
    {
     "data": {
      "text/html": [
       "<div>\n",
       "<style scoped>\n",
       "    .dataframe tbody tr th:only-of-type {\n",
       "        vertical-align: middle;\n",
       "    }\n",
       "\n",
       "    .dataframe tbody tr th {\n",
       "        vertical-align: top;\n",
       "    }\n",
       "\n",
       "    .dataframe thead th {\n",
       "        text-align: right;\n",
       "    }\n",
       "</style>\n",
       "<table border=\"1\" class=\"dataframe\">\n",
       "  <thead>\n",
       "    <tr style=\"text-align: right;\">\n",
       "      <th></th>\n",
       "      <th>salary_high_low</th>\n",
       "      <th>AK</th>\n",
       "      <th>AL</th>\n",
       "      <th>AR</th>\n",
       "      <th>AZ</th>\n",
       "      <th>CA</th>\n",
       "      <th>CO</th>\n",
       "      <th>CT</th>\n",
       "      <th>DC</th>\n",
       "      <th>DE</th>\n",
       "      <th>...</th>\n",
       "      <th>python</th>\n",
       "      <th>lead</th>\n",
       "      <th>intelligence</th>\n",
       "      <th>machine learning</th>\n",
       "      <th>engineer</th>\n",
       "      <th>graduate</th>\n",
       "      <th>research</th>\n",
       "      <th>intern</th>\n",
       "      <th>architect</th>\n",
       "      <th>intelligence</th>\n",
       "    </tr>\n",
       "  </thead>\n",
       "  <tbody>\n",
       "    <tr>\n",
       "      <th>0</th>\n",
       "      <td>1</td>\n",
       "      <td>0</td>\n",
       "      <td>0</td>\n",
       "      <td>0</td>\n",
       "      <td>0</td>\n",
       "      <td>1</td>\n",
       "      <td>0</td>\n",
       "      <td>0</td>\n",
       "      <td>0</td>\n",
       "      <td>0</td>\n",
       "      <td>...</td>\n",
       "      <td>0</td>\n",
       "      <td>0</td>\n",
       "      <td>0</td>\n",
       "      <td>0</td>\n",
       "      <td>0</td>\n",
       "      <td>0</td>\n",
       "      <td>0</td>\n",
       "      <td>0</td>\n",
       "      <td>0</td>\n",
       "      <td>0</td>\n",
       "    </tr>\n",
       "    <tr>\n",
       "      <th>1</th>\n",
       "      <td>1</td>\n",
       "      <td>0</td>\n",
       "      <td>0</td>\n",
       "      <td>0</td>\n",
       "      <td>0</td>\n",
       "      <td>0</td>\n",
       "      <td>0</td>\n",
       "      <td>0</td>\n",
       "      <td>0</td>\n",
       "      <td>0</td>\n",
       "      <td>...</td>\n",
       "      <td>0</td>\n",
       "      <td>0</td>\n",
       "      <td>0</td>\n",
       "      <td>0</td>\n",
       "      <td>0</td>\n",
       "      <td>0</td>\n",
       "      <td>0</td>\n",
       "      <td>0</td>\n",
       "      <td>0</td>\n",
       "      <td>0</td>\n",
       "    </tr>\n",
       "    <tr>\n",
       "      <th>2</th>\n",
       "      <td>1</td>\n",
       "      <td>0</td>\n",
       "      <td>0</td>\n",
       "      <td>0</td>\n",
       "      <td>0</td>\n",
       "      <td>0</td>\n",
       "      <td>0</td>\n",
       "      <td>0</td>\n",
       "      <td>0</td>\n",
       "      <td>0</td>\n",
       "      <td>...</td>\n",
       "      <td>0</td>\n",
       "      <td>0</td>\n",
       "      <td>0</td>\n",
       "      <td>0</td>\n",
       "      <td>0</td>\n",
       "      <td>0</td>\n",
       "      <td>0</td>\n",
       "      <td>0</td>\n",
       "      <td>0</td>\n",
       "      <td>0</td>\n",
       "    </tr>\n",
       "    <tr>\n",
       "      <th>3</th>\n",
       "      <td>1</td>\n",
       "      <td>0</td>\n",
       "      <td>0</td>\n",
       "      <td>0</td>\n",
       "      <td>0</td>\n",
       "      <td>0</td>\n",
       "      <td>0</td>\n",
       "      <td>0</td>\n",
       "      <td>0</td>\n",
       "      <td>0</td>\n",
       "      <td>...</td>\n",
       "      <td>0</td>\n",
       "      <td>0</td>\n",
       "      <td>0</td>\n",
       "      <td>0</td>\n",
       "      <td>0</td>\n",
       "      <td>0</td>\n",
       "      <td>0</td>\n",
       "      <td>0</td>\n",
       "      <td>0</td>\n",
       "      <td>0</td>\n",
       "    </tr>\n",
       "    <tr>\n",
       "      <th>4</th>\n",
       "      <td>0</td>\n",
       "      <td>0</td>\n",
       "      <td>0</td>\n",
       "      <td>0</td>\n",
       "      <td>0</td>\n",
       "      <td>0</td>\n",
       "      <td>0</td>\n",
       "      <td>0</td>\n",
       "      <td>0</td>\n",
       "      <td>0</td>\n",
       "      <td>...</td>\n",
       "      <td>0</td>\n",
       "      <td>0</td>\n",
       "      <td>0</td>\n",
       "      <td>0</td>\n",
       "      <td>0</td>\n",
       "      <td>0</td>\n",
       "      <td>0</td>\n",
       "      <td>0</td>\n",
       "      <td>0</td>\n",
       "      <td>0</td>\n",
       "    </tr>\n",
       "  </tbody>\n",
       "</table>\n",
       "<p>5 rows × 73 columns</p>\n",
       "</div>"
      ],
      "text/plain": [
       "   salary_high_low   AK   AL   AR   AZ   CA   CO   CT   DC   DE  ...  python  \\\n",
       "0                1    0    0    0    0    1    0    0    0    0  ...       0   \n",
       "1                1    0    0    0    0    0    0    0    0    0  ...       0   \n",
       "2                1    0    0    0    0    0    0    0    0    0  ...       0   \n",
       "3                1    0    0    0    0    0    0    0    0    0  ...       0   \n",
       "4                0    0    0    0    0    0    0    0    0    0  ...       0   \n",
       "\n",
       "   lead  intelligence  machine learning  engineer  graduate  research  intern  \\\n",
       "0     0             0                 0         0         0         0       0   \n",
       "1     0             0                 0         0         0         0       0   \n",
       "2     0             0                 0         0         0         0       0   \n",
       "3     0             0                 0         0         0         0       0   \n",
       "4     0             0                 0         0         0         0       0   \n",
       "\n",
       "   architect  intelligence  \n",
       "0          0             0  \n",
       "1          0             0  \n",
       "2          0             0  \n",
       "3          0             0  \n",
       "4          0             0  \n",
       "\n",
       "[5 rows x 73 columns]"
      ]
     },
     "execution_count": 65,
     "metadata": {},
     "output_type": "execute_result"
    }
   ],
   "source": [
    "final_jobs.head()"
   ]
  },
  {
   "cell_type": "code",
   "execution_count": 66,
   "metadata": {},
   "outputs": [
    {
     "data": {
      "text/plain": [
       "Index(['salary_high_low', ' AK', ' AL', ' AR', ' AZ', ' CA', ' CO', ' CT',\n",
       "       ' DC', ' DE', ' FL', ' GA', ' IA', ' ID', ' IL', ' IN', ' KS', ' KY',\n",
       "       ' LA', ' MA', ' MD', ' MI', ' MN', ' MO', ' MS', ' NC', ' NE', ' NJ',\n",
       "       ' NM', ' NV', ' NY', ' OH', ' OR', ' PA', ' PR', ' RI', ' SC', ' TN',\n",
       "       ' TX', ' UT', ' VA', ' WA', ' WI', ' WV', 'Maryland', 'Massachusetts',\n",
       "       'Remote', 'United States', 'Washington State', 'director', 'analyst',\n",
       "       'scientist', 'engineer', 'business', 'consultant', 'senior', 'junior',\n",
       "       'manager', 'developer', 'head', 'programmer', 'executive', 'java',\n",
       "       'python', 'lead', 'intelligence', 'machine learning', 'engineer',\n",
       "       'graduate', 'research', 'intern', 'architect', 'intelligence'],\n",
       "      dtype='object')"
      ]
     },
     "execution_count": 66,
     "metadata": {},
     "output_type": "execute_result"
    }
   ],
   "source": [
    "final_jobs.columns"
   ]
  },
  {
   "cell_type": "code",
   "execution_count": 67,
   "metadata": {},
   "outputs": [],
   "source": [
    "final_jobs.to_csv(\"indeed_final.csv\", index = False)"
   ]
  },
  {
   "cell_type": "code",
   "execution_count": 68,
   "metadata": {},
   "outputs": [],
   "source": [
    "final_jobs = pd.read_csv(\"indeed_final.csv\")"
   ]
  },
  {
   "cell_type": "code",
   "execution_count": 69,
   "metadata": {},
   "outputs": [],
   "source": [
    "y = final_jobs.salary_high_low"
   ]
  },
  {
   "cell_type": "code",
   "execution_count": 70,
   "metadata": {},
   "outputs": [],
   "source": [
    "X = final_jobs.drop('salary_high_low', axis = 1)"
   ]
  },
  {
   "cell_type": "code",
   "execution_count": 71,
   "metadata": {},
   "outputs": [],
   "source": [
    "from scipy import sparse"
   ]
  },
  {
   "cell_type": "code",
   "execution_count": 72,
   "metadata": {},
   "outputs": [],
   "source": [
    "matrix = sparse.csr_matrix(X.values)"
   ]
  },
  {
   "cell_type": "code",
   "execution_count": 73,
   "metadata": {},
   "outputs": [],
   "source": [
    "X_train, X_test, y_train, y_test = train_test_split(matrix, y, stratify=y, test_size=0.2, random_state=42)"
   ]
  },
  {
   "cell_type": "markdown",
   "metadata": {},
   "source": [
    "## LogisticRegression"
   ]
  },
  {
   "cell_type": "code",
   "execution_count": 74,
   "metadata": {},
   "outputs": [],
   "source": [
    "# setting grid search with logisticRegression model\n",
    "\n",
    "lr = LogisticRegression()\n",
    "\n",
    "lr_params = {'C': np.logspace(-4, 4, 10),\n",
    "          'penalty': ['l1', 'l2'],\n",
    "          'fit_intercept': [True, False],\n",
    "          'solver': ['liblinear','lbfgs', 'saga']}\n",
    "\n",
    "gs_lr = GridSearchCV(estimator=lr,\n",
    "                     param_grid=lr_params,\n",
    "                     cv=5,\n",
    "                     verbose = 1,\n",
    "                    n_jobs = 2)"
   ]
  },
  {
   "cell_type": "code",
   "execution_count": 75,
   "metadata": {},
   "outputs": [
    {
     "name": "stdout",
     "output_type": "stream",
     "text": [
      "Fitting 5 folds for each of 120 candidates, totalling 600 fits\n"
     ]
    },
    {
     "name": "stderr",
     "output_type": "stream",
     "text": [
      "[Parallel(n_jobs=2)]: Using backend LokyBackend with 2 concurrent workers.\n",
      "[Parallel(n_jobs=2)]: Done 580 tasks      | elapsed:    1.6s\n",
      "[Parallel(n_jobs=2)]: Done 600 out of 600 | elapsed:    1.7s finished\n"
     ]
    },
    {
     "data": {
      "text/plain": [
       "GridSearchCV(cv=5, error_score=nan,\n",
       "             estimator=LogisticRegression(C=1.0, class_weight=None, dual=False,\n",
       "                                          fit_intercept=True,\n",
       "                                          intercept_scaling=1, l1_ratio=None,\n",
       "                                          max_iter=100, multi_class='auto',\n",
       "                                          n_jobs=None, penalty='l2',\n",
       "                                          random_state=None, solver='lbfgs',\n",
       "                                          tol=0.0001, verbose=0,\n",
       "                                          warm_start=False),\n",
       "             iid='deprecated', n_jobs=2,\n",
       "             param_grid={'C': array([1.00000000e-04, 7.74263683e-04, 5.99484250e-03, 4.64158883e-02,\n",
       "       3.59381366e-01, 2.78255940e+00, 2.15443469e+01, 1.66810054e+02,\n",
       "       1.29154967e+03, 1.00000000e+04]),\n",
       "                         'fit_intercept': [True, False],\n",
       "                         'penalty': ['l1', 'l2'],\n",
       "                         'solver': ['liblinear', 'lbfgs', 'saga']},\n",
       "             pre_dispatch='2*n_jobs', refit=True, return_train_score=False,\n",
       "             scoring=None, verbose=1)"
      ]
     },
     "execution_count": 75,
     "metadata": {},
     "output_type": "execute_result"
    }
   ],
   "source": [
    "gs_lr.fit(X_train,y_train)"
   ]
  },
  {
   "cell_type": "code",
   "execution_count": 76,
   "metadata": {},
   "outputs": [
    {
     "data": {
      "image/png": "[encoded data removed]",
      "text/plain": [
       "<Figure size 1080x1080 with 1 Axes>"
      ]
     },
     "metadata": {
      "needs_background": "light"
     },
     "output_type": "display_data"
    }
   ],
   "source": [
    "coeff_df = pd.DataFrame(gs_lr.best_estimator_.coef_, columns = [X.columns], index = ['Coefficients']).T.sort_values('Coefficients', ascending = False)\n",
    "\n",
    "fig,ax= plt.subplots(figsize=(15,15))\n",
    "sns.barplot(y=coeff_df.index, x=coeff_df.Coefficients, orient='h', palette='coolwarm',ax=ax);"
   ]
  },
  {
   "cell_type": "code",
   "execution_count": 77,
   "metadata": {},
   "outputs": [],
   "source": [
    "predictions = gs_lr.best_estimator_.predict(X_test)"
   ]
  },
  {
   "cell_type": "code",
   "execution_count": 78,
   "metadata": {},
   "outputs": [],
   "source": [
    "from sklearn.metrics import confusion_matrix, accuracy_score, precision_score, recall_score, f1_score, fbeta_score, classification_report"
   ]
  },
  {
   "cell_type": "code",
   "execution_count": 79,
   "metadata": {},
   "outputs": [
    {
     "data": {
      "text/html": [
       "<div>\n",
       "<style scoped>\n",
       "    .dataframe tbody tr th:only-of-type {\n",
       "        vertical-align: middle;\n",
       "    }\n",
       "\n",
       "    .dataframe tbody tr th {\n",
       "        vertical-align: top;\n",
       "    }\n",
       "\n",
       "    .dataframe thead th {\n",
       "        text-align: right;\n",
       "    }\n",
       "</style>\n",
       "<table border=\"1\" class=\"dataframe\">\n",
       "  <thead>\n",
       "    <tr style=\"text-align: right;\">\n",
       "      <th></th>\n",
       "      <th>predicted LOW</th>\n",
       "      <th>predicted HIGH</th>\n",
       "    </tr>\n",
       "  </thead>\n",
       "  <tbody>\n",
       "    <tr>\n",
       "      <th>actual LOW</th>\n",
       "      <td>34</td>\n",
       "      <td>13</td>\n",
       "    </tr>\n",
       "    <tr>\n",
       "      <th>actual HIGH</th>\n",
       "      <td>14</td>\n",
       "      <td>34</td>\n",
       "    </tr>\n",
       "  </tbody>\n",
       "</table>\n",
       "</div>"
      ],
      "text/plain": [
       "             predicted LOW  predicted HIGH\n",
       "actual LOW              34              13\n",
       "actual HIGH             14              34"
      ]
     },
     "execution_count": 79,
     "metadata": {},
     "output_type": "execute_result"
    }
   ],
   "source": [
    "pd.DataFrame(confusion_matrix(y_test, predictions), index = ['actual LOW', 'actual HIGH'], \n",
    "             columns = ['predicted LOW', 'predicted HIGH'])"
   ]
  },
  {
   "cell_type": "code",
   "execution_count": 80,
   "metadata": {},
   "outputs": [
    {
     "data": {
      "text/html": [
       "<div>\n",
       "<style scoped>\n",
       "    .dataframe tbody tr th:only-of-type {\n",
       "        vertical-align: middle;\n",
       "    }\n",
       "\n",
       "    .dataframe tbody tr th {\n",
       "        vertical-align: top;\n",
       "    }\n",
       "\n",
       "    .dataframe thead th {\n",
       "        text-align: right;\n",
       "    }\n",
       "</style>\n",
       "<table border=\"1\" class=\"dataframe\">\n",
       "  <thead>\n",
       "    <tr style=\"text-align: right;\">\n",
       "      <th></th>\n",
       "      <th>scores</th>\n",
       "    </tr>\n",
       "  </thead>\n",
       "  <tbody>\n",
       "    <tr>\n",
       "      <th>accuracy</th>\n",
       "      <td>0.715789</td>\n",
       "    </tr>\n",
       "    <tr>\n",
       "      <th>precision</th>\n",
       "      <td>0.723404</td>\n",
       "    </tr>\n",
       "    <tr>\n",
       "      <th>recall</th>\n",
       "      <td>0.708333</td>\n",
       "    </tr>\n",
       "    <tr>\n",
       "      <th>f1</th>\n",
       "      <td>0.715789</td>\n",
       "    </tr>\n",
       "  </tbody>\n",
       "</table>\n",
       "</div>"
      ],
      "text/plain": [
       "             scores\n",
       "accuracy   0.715789\n",
       "precision  0.723404\n",
       "recall     0.708333\n",
       "f1         0.715789"
      ]
     },
     "execution_count": 80,
     "metadata": {},
     "output_type": "execute_result"
    }
   ],
   "source": [
    "pd.DataFrame([accuracy_score(y_test, predictions), precision_score(y_test, predictions),\n",
    "              recall_score(y_test, predictions), f1_score(y_test, predictions)], columns = ['scores'], \n",
    "             index = ['accuracy','precision', 'recall', 'f1'])"
   ]
  },
  {
   "cell_type": "code",
   "execution_count": 81,
   "metadata": {},
   "outputs": [
    {
     "name": "stdout",
     "output_type": "stream",
     "text": [
      "              precision    recall  f1-score   support\n",
      "\n",
      "           0       0.71      0.72      0.72        47\n",
      "           1       0.72      0.71      0.72        48\n",
      "\n",
      "    accuracy                           0.72        95\n",
      "   macro avg       0.72      0.72      0.72        95\n",
      "weighted avg       0.72      0.72      0.72        95\n",
      "\n"
     ]
    }
   ],
   "source": [
    "print(classification_report(y_test, predictions))"
   ]
  },
  {
   "cell_type": "code",
   "execution_count": 82,
   "metadata": {},
   "outputs": [
    {
     "data": {
      "text/html": [
       "<div>\n",
       "<style scoped>\n",
       "    .dataframe tbody tr th:only-of-type {\n",
       "        vertical-align: middle;\n",
       "    }\n",
       "\n",
       "    .dataframe tbody tr th {\n",
       "        vertical-align: top;\n",
       "    }\n",
       "\n",
       "    .dataframe thead th {\n",
       "        text-align: right;\n",
       "    }\n",
       "</style>\n",
       "<table border=\"1\" class=\"dataframe\">\n",
       "  <thead>\n",
       "    <tr style=\"text-align: right;\">\n",
       "      <th></th>\n",
       "      <th>actual</th>\n",
       "      <th>predicted</th>\n",
       "      <th>probability_HIGH</th>\n",
       "    </tr>\n",
       "  </thead>\n",
       "  <tbody>\n",
       "    <tr>\n",
       "      <th>69</th>\n",
       "      <td>1</td>\n",
       "      <td>0</td>\n",
       "      <td>0.403942</td>\n",
       "    </tr>\n",
       "    <tr>\n",
       "      <th>226</th>\n",
       "      <td>0</td>\n",
       "      <td>1</td>\n",
       "      <td>0.612728</td>\n",
       "    </tr>\n",
       "    <tr>\n",
       "      <th>285</th>\n",
       "      <td>1</td>\n",
       "      <td>1</td>\n",
       "      <td>0.671324</td>\n",
       "    </tr>\n",
       "    <tr>\n",
       "      <th>102</th>\n",
       "      <td>1</td>\n",
       "      <td>0</td>\n",
       "      <td>0.405143</td>\n",
       "    </tr>\n",
       "    <tr>\n",
       "      <th>213</th>\n",
       "      <td>1</td>\n",
       "      <td>1</td>\n",
       "      <td>0.613752</td>\n",
       "    </tr>\n",
       "  </tbody>\n",
       "</table>\n",
       "</div>"
      ],
      "text/plain": [
       "     actual  predicted  probability_HIGH\n",
       "69        1          0          0.403942\n",
       "226       0          1          0.612728\n",
       "285       1          1          0.671324\n",
       "102       1          0          0.405143\n",
       "213       1          1          0.613752"
      ]
     },
     "execution_count": 82,
     "metadata": {},
     "output_type": "execute_result"
    }
   ],
   "source": [
    "predictions_df = pd.DataFrame()\n",
    "predictions_df['actual']= y_test\n",
    "predictions_df['predicted']= predictions\n",
    "predictions_df['probability_HIGH']= gs_lr.best_estimator_.predict_proba(X_test)[:,1]\n",
    "predictions_df.head()"
   ]
  },
  {
   "cell_type": "code",
   "execution_count": 83,
   "metadata": {},
   "outputs": [
    {
     "data": {
      "image/png": "[encoded data removed]",
      "text/plain": [
       "<Figure size 432x288 with 1 Axes>"
      ]
     },
     "metadata": {
      "needs_background": "light"
     },
     "output_type": "display_data"
    }
   ],
   "source": [
    "false_positives = []\n",
    "for thresh in np.arange(1, 100)/100:\n",
    "    labeled_1 = np.array([1 if x >= thresh else 0 for x in predictions_df.probability_HIGH.values])\n",
    "    fp = np.mean((y_test == 0) & (labeled_1 == 1))\n",
    "    false_positives.append(fp)\n",
    "   \n",
    "\n",
    "accuracy = []\n",
    "for thresh in np.arange(1, 100)/100:\n",
    "    labeled_1 = np.array([1 if x >= thresh else 0 for x in predictions_df.probability_HIGH.values])\n",
    "    acc = np.mean(labeled_1 == y_test)\n",
    "    accuracy.append(acc)\n",
    "    \n",
    "false_positives = np.array(false_positives)\n",
    "accuracy = np.array(accuracy)\n",
    "plt.plot(np.arange(1, 100)/100, false_positives, label='false positives')\n",
    "plt.plot(np.arange(1, 100)/100, accuracy, label='accuracies')\n",
    "plt.legend()\n",
    "plt.xlabel('threshold')\n",
    "plt.show()"
   ]
  },
  {
   "cell_type": "code",
   "execution_count": 84,
   "metadata": {},
   "outputs": [
    {
     "data": {
      "text/html": [
       "<div>\n",
       "<style scoped>\n",
       "    .dataframe tbody tr th:only-of-type {\n",
       "        vertical-align: middle;\n",
       "    }\n",
       "\n",
       "    .dataframe tbody tr th {\n",
       "        vertical-align: top;\n",
       "    }\n",
       "\n",
       "    .dataframe thead th {\n",
       "        text-align: right;\n",
       "    }\n",
       "</style>\n",
       "<table border=\"1\" class=\"dataframe\">\n",
       "  <thead>\n",
       "    <tr style=\"text-align: right;\">\n",
       "      <th></th>\n",
       "      <th>actual</th>\n",
       "      <th>predicted</th>\n",
       "      <th>probability_HIGH</th>\n",
       "      <th>60_precent_threshold</th>\n",
       "    </tr>\n",
       "  </thead>\n",
       "  <tbody>\n",
       "    <tr>\n",
       "      <th>69</th>\n",
       "      <td>1</td>\n",
       "      <td>0</td>\n",
       "      <td>0.403942</td>\n",
       "      <td>0</td>\n",
       "    </tr>\n",
       "    <tr>\n",
       "      <th>226</th>\n",
       "      <td>0</td>\n",
       "      <td>1</td>\n",
       "      <td>0.612728</td>\n",
       "      <td>1</td>\n",
       "    </tr>\n",
       "    <tr>\n",
       "      <th>285</th>\n",
       "      <td>1</td>\n",
       "      <td>1</td>\n",
       "      <td>0.671324</td>\n",
       "      <td>1</td>\n",
       "    </tr>\n",
       "    <tr>\n",
       "      <th>102</th>\n",
       "      <td>1</td>\n",
       "      <td>0</td>\n",
       "      <td>0.405143</td>\n",
       "      <td>0</td>\n",
       "    </tr>\n",
       "    <tr>\n",
       "      <th>213</th>\n",
       "      <td>1</td>\n",
       "      <td>1</td>\n",
       "      <td>0.613752</td>\n",
       "      <td>1</td>\n",
       "    </tr>\n",
       "  </tbody>\n",
       "</table>\n",
       "</div>"
      ],
      "text/plain": [
       "     actual  predicted  probability_HIGH  60_precent_threshold\n",
       "69        1          0          0.403942                     0\n",
       "226       0          1          0.612728                     1\n",
       "285       1          1          0.671324                     1\n",
       "102       1          0          0.405143                     0\n",
       "213       1          1          0.613752                     1"
      ]
     },
     "execution_count": 84,
     "metadata": {},
     "output_type": "execute_result"
    }
   ],
   "source": [
    "predictions_df['60_precent_threshold']= predictions_df.probability_HIGH.map(lambda x:1 if x>= 0.6 else 0)\n",
    "predictions_df.head()"
   ]
  },
  {
   "cell_type": "code",
   "execution_count": 85,
   "metadata": {},
   "outputs": [
    {
     "data": {
      "text/html": [
       "<div>\n",
       "<style scoped>\n",
       "    .dataframe tbody tr th:only-of-type {\n",
       "        vertical-align: middle;\n",
       "    }\n",
       "\n",
       "    .dataframe tbody tr th {\n",
       "        vertical-align: top;\n",
       "    }\n",
       "\n",
       "    .dataframe thead th {\n",
       "        text-align: right;\n",
       "    }\n",
       "</style>\n",
       "<table border=\"1\" class=\"dataframe\">\n",
       "  <thead>\n",
       "    <tr style=\"text-align: right;\">\n",
       "      <th></th>\n",
       "      <th>scores 60_percent_threshold</th>\n",
       "    </tr>\n",
       "  </thead>\n",
       "  <tbody>\n",
       "    <tr>\n",
       "      <th>accuracy</th>\n",
       "      <td>0.631579</td>\n",
       "    </tr>\n",
       "    <tr>\n",
       "      <th>precision</th>\n",
       "      <td>0.724138</td>\n",
       "    </tr>\n",
       "    <tr>\n",
       "      <th>recall</th>\n",
       "      <td>0.437500</td>\n",
       "    </tr>\n",
       "    <tr>\n",
       "      <th>f1</th>\n",
       "      <td>0.545455</td>\n",
       "    </tr>\n",
       "  </tbody>\n",
       "</table>\n",
       "</div>"
      ],
      "text/plain": [
       "           scores 60_percent_threshold\n",
       "accuracy                      0.631579\n",
       "precision                     0.724138\n",
       "recall                        0.437500\n",
       "f1                            0.545455"
      ]
     },
     "execution_count": 85,
     "metadata": {},
     "output_type": "execute_result"
    }
   ],
   "source": [
    "pd.DataFrame([accuracy_score(y_test, predictions_df['60_precent_threshold']), \n",
    "              precision_score(y_test, predictions_df['60_precent_threshold']),\n",
    "              recall_score(y_test, predictions_df['60_precent_threshold']),\n",
    "              f1_score(y_test, predictions_df['60_precent_threshold'])], columns = ['scores 60_percent_threshold'], \n",
    "             index = ['accuracy','precision', 'recall', 'f1'])"
   ]
  },
  {
   "cell_type": "code",
   "execution_count": 86,
   "metadata": {},
   "outputs": [
    {
     "data": {
      "text/html": [
       "<div>\n",
       "<style scoped>\n",
       "    .dataframe tbody tr th:only-of-type {\n",
       "        vertical-align: middle;\n",
       "    }\n",
       "\n",
       "    .dataframe tbody tr th {\n",
       "        vertical-align: top;\n",
       "    }\n",
       "\n",
       "    .dataframe thead th {\n",
       "        text-align: right;\n",
       "    }\n",
       "</style>\n",
       "<table border=\"1\" class=\"dataframe\">\n",
       "  <thead>\n",
       "    <tr style=\"text-align: right;\">\n",
       "      <th></th>\n",
       "      <th>predicted LOW</th>\n",
       "      <th>predicted HIGH</th>\n",
       "    </tr>\n",
       "  </thead>\n",
       "  <tbody>\n",
       "    <tr>\n",
       "      <th>actual LOW</th>\n",
       "      <td>39</td>\n",
       "      <td>8</td>\n",
       "    </tr>\n",
       "    <tr>\n",
       "      <th>actual HIGH</th>\n",
       "      <td>27</td>\n",
       "      <td>21</td>\n",
       "    </tr>\n",
       "  </tbody>\n",
       "</table>\n",
       "</div>"
      ],
      "text/plain": [
       "             predicted LOW  predicted HIGH\n",
       "actual LOW              39               8\n",
       "actual HIGH             27              21"
      ]
     },
     "execution_count": 86,
     "metadata": {},
     "output_type": "execute_result"
    }
   ],
   "source": [
    "pd.DataFrame(confusion_matrix(y_test, predictions_df['60_precent_threshold']), index = ['actual LOW', 'actual HIGH'], \n",
    "             columns = ['predicted LOW', 'predicted HIGH'])"
   ]
  },
  {
   "cell_type": "code",
   "execution_count": 87,
   "metadata": {},
   "outputs": [],
   "source": [
    "from sklearn.metrics import roc_curve, auc, precision_recall_curve, average_precision_score"
   ]
  },
  {
   "cell_type": "code",
   "execution_count": 88,
   "metadata": {},
   "outputs": [
    {
     "data": {
      "image/png": "[encoded data removed]",
      "text/plain": [
       "<Figure size 432x432 with 1 Axes>"
      ]
     },
     "metadata": {
      "needs_background": "light"
     },
     "output_type": "display_data"
    }
   ],
   "source": [
    "#Finding area under the curve\n",
    "fpr, tpr, threshold = roc_curve(y_test, predictions_df.probability_HIGH)\n",
    "roc_auc = auc(fpr, tpr)\n",
    "\n",
    "#Plotting ROC curve for High Salary\n",
    "plt.figure(figsize=[6, 6])\n",
    "plt.plot(fpr, tpr, label='ROC curve (area = %0.2f)' % roc_auc, linewidth=4)\n",
    "plt.plot([0, 1], [0, 1], 'k--', linewidth=4)\n",
    "plt.xlim([-0.05, 1.0])\n",
    "plt.ylim([-0.05, 1.05])\n",
    "plt.xlabel('False Positive Rate', fontsize=18)\n",
    "plt.ylabel('True Positive Rate', fontsize=18)\n",
    "plt.title('ROC curve', fontsize=18)\n",
    "plt.legend(loc=\"lower right\")\n",
    "plt.show()"
   ]
  },
  {
   "cell_type": "code",
   "execution_count": 89,
   "metadata": {},
   "outputs": [
    {
     "data": {
      "image/png": "[encoded data removed]",
      "text/plain": [
       "<Figure size 432x432 with 1 Axes>"
      ]
     },
     "metadata": {
      "needs_background": "light"
     },
     "output_type": "display_data"
    }
   ],
   "source": [
    "#Finding area under the curve\n",
    "precision, recall, threshold = precision_recall_curve(y_test, predictions_df.probability_HIGH)\n",
    "\n",
    "\n",
    "# Plotting precision-recall curve for High Salary \n",
    "plt.figure(figsize=[6, 6])\n",
    "plt.plot(recall, precision, label='Precision-recall curve', linewidth=4)\n",
    "plt.xlim([-0.05, 1.0])\n",
    "plt.ylim([-0.05, 1.05])\n",
    "plt.xlabel('Recall', fontsize=18)\n",
    "plt.ylabel('Precision', fontsize=18)\n",
    "plt.title('Precision-Recall curve', fontsize=18)\n",
    "plt.legend(loc=\"lower right\")\n",
    "plt.show()"
   ]
  },
  {
   "cell_type": "markdown",
   "metadata": {},
   "source": [
    "## DecisionTree"
   ]
  },
  {
   "cell_type": "code",
   "execution_count": 90,
   "metadata": {},
   "outputs": [],
   "source": [
    "from sklearn.tree import DecisionTreeClassifier"
   ]
  },
  {
   "cell_type": "code",
   "execution_count": 91,
   "metadata": {},
   "outputs": [],
   "source": [
    "# Setting up grid search with DecisionTree model\n",
    "\n",
    "dtc = DecisionTreeClassifier()\n",
    "\n",
    "dtc_params = {\n",
    "    'max_depth': list(range(1, 10))+[None],\n",
    "    'criterion': ['gini', 'entropy'],\n",
    "    'max_features': list(range(1, 10))+[None],\n",
    "    'min_samples_split': [2, 3, 4, 5, 10, 15, 20, 25, 30, 40, 50],\n",
    "    'ccp_alpha': [0, 0.001, 0.005, 0.01]\n",
    "}\n",
    "\n",
    "\n",
    "gs_dtc = GridSearchCV(dtc, dtc_params, cv=5, verbose=1, n_jobs=2)"
   ]
  },
  {
   "cell_type": "code",
   "execution_count": 92,
   "metadata": {},
   "outputs": [
    {
     "name": "stdout",
     "output_type": "stream",
     "text": [
      "Fitting 5 folds for each of 8800 candidates, totalling 44000 fits\n"
     ]
    },
    {
     "name": "stderr",
     "output_type": "stream",
     "text": [
      "[Parallel(n_jobs=2)]: Using backend LokyBackend with 2 concurrent workers.\n",
      "[Parallel(n_jobs=2)]: Done 2812 tasks      | elapsed:    2.5s\n",
      "[Parallel(n_jobs=2)]: Done 22012 tasks      | elapsed:   19.8s\n",
      "[Parallel(n_jobs=2)]: Done 44000 out of 44000 | elapsed:   39.7s finished\n"
     ]
    },
    {
     "data": {
      "text/plain": [
       "GridSearchCV(cv=5, error_score=nan,\n",
       "             estimator=DecisionTreeClassifier(ccp_alpha=0.0, class_weight=None,\n",
       "                                              criterion='gini', max_depth=None,\n",
       "                                              max_features=None,\n",
       "                                              max_leaf_nodes=None,\n",
       "                                              min_impurity_decrease=0.0,\n",
       "                                              min_impurity_split=None,\n",
       "                                              min_samples_leaf=1,\n",
       "                                              min_samples_split=2,\n",
       "                                              min_weight_fraction_leaf=0.0,\n",
       "                                              presort='deprecated',\n",
       "                                              random_state=None,\n",
       "                                              splitter='best'),\n",
       "             iid='deprecated', n_jobs=2,\n",
       "             param_grid={'ccp_alpha': [0, 0.001, 0.005, 0.01],\n",
       "                         'criterion': ['gini', 'entropy'],\n",
       "                         'max_depth': [1, 2, 3, 4, 5, 6, 7, 8, 9, None],\n",
       "                         'max_features': [1, 2, 3, 4, 5, 6, 7, 8, 9, None],\n",
       "                         'min_samples_split': [2, 3, 4, 5, 10, 15, 20, 25, 30,\n",
       "                                               40, 50]},\n",
       "             pre_dispatch='2*n_jobs', refit=True, return_train_score=False,\n",
       "             scoring=None, verbose=1)"
      ]
     },
     "execution_count": 92,
     "metadata": {},
     "output_type": "execute_result"
    }
   ],
   "source": [
    "gs_dtc.fit(X_train, y_train)"
   ]
  },
  {
   "cell_type": "code",
   "execution_count": 93,
   "metadata": {},
   "outputs": [
    {
     "name": "stdout",
     "output_type": "stream",
     "text": [
      "Best Parameters:\n",
      "{'ccp_alpha': 0.005, 'criterion': 'gini', 'max_depth': 8, 'max_features': 8, 'min_samples_split': 10}\n",
      "Best estimator mean cross validated training score:\n",
      "0.6842105263157895\n",
      "Best estimator score on the full training set:\n",
      "0.6236842105263158\n",
      "Best estimator score on the test set:\n",
      "0.6631578947368421\n"
     ]
    }
   ],
   "source": [
    "#Extracting grid search results\n",
    "\n",
    "print('Best Parameters:')\n",
    "print(gs_dtc.best_params_)\n",
    "print('Best estimator mean cross validated training score:')\n",
    "print(gs_dtc.best_score_)\n",
    "print('Best estimator score on the full training set:')\n",
    "print(gs_dtc.score(X_train, y_train))\n",
    "print('Best estimator score on the test set:')\n",
    "print(gs_dtc.score(X_test, y_test))"
   ]
  },
  {
   "cell_type": "markdown",
   "metadata": {},
   "source": [
    "## RandomForest"
   ]
  },
  {
   "cell_type": "code",
   "execution_count": null,
   "metadata": {},
   "outputs": [],
   "source": [
    "from sklearn.ensemble import RandomForestClassifier"
   ]
  },
  {
   "cell_type": "code",
   "execution_count": 94,
   "metadata": {},
   "outputs": [],
   "source": [
    "#Setting grid search with RandomForest model\n",
    "\n",
    "rfc = RandomForestClassifier()\n",
    "\n",
    "rfc_params = {'max_depth':range(1,20),\n",
    "          'max_features':[\"auto\",\"log2\",0.5, 0.8],\n",
    "         'criterion':['gini','entropy'],\n",
    "         'bootstrap':[True,False]}\n",
    "\n",
    "gs_rfc = GridSearchCV(estimator=rfc,\n",
    "                     param_grid=rfc_params,\n",
    "                     cv=5,\n",
    "                     verbose = 1,\n",
    "                    n_jobs = 2)"
   ]
  },
  {
   "cell_type": "code",
   "execution_count": null,
   "metadata": {},
   "outputs": [
    {
     "name": "stderr",
     "output_type": "stream",
     "text": [
      "[Parallel(n_jobs=2)]: Using backend LokyBackend with 2 concurrent workers.\n"
     ]
    },
    {
     "name": "stdout",
     "output_type": "stream",
     "text": [
      "Fitting 5 folds for each of 304 candidates, totalling 1520 fits\n"
     ]
    },
    {
     "name": "stderr",
     "output_type": "stream",
     "text": [
      "[Parallel(n_jobs=2)]: Done  88 tasks      | elapsed:    6.0s\n"
     ]
    }
   ],
   "source": [
    "gs_rfc.fit(X_train, y_train)"
   ]
  },
  {
   "cell_type": "code",
   "execution_count": null,
   "metadata": {},
   "outputs": [],
   "source": [
    "# Extracting grid search results\n",
    "\n",
    "print('Best Parameters:')\n",
    "print(gs_rfc.best_params_)\n",
    "print('Best estimator CV score:')\n",
    "print(gs_rfc.best_score_)\n",
    "print('Best estimator score on the full training set:')\n",
    "print(gs_rfc.score(X_train, y_train))\n",
    "print('Best estimator score on the test set:')\n",
    "print(gs_rfc.score(X_test, y_test))"
   ]
  },
  {
   "cell_type": "markdown",
   "metadata": {},
   "source": [
    "## AdaBoost"
   ]
  },
  {
   "cell_type": "code",
   "execution_count": null,
   "metadata": {},
   "outputs": [],
   "source": [
    "ada_boost = AdaBoostClassifier(base_estimator=gs_rfc.best_estimator_,\n",
    "                           n_estimators=100,\n",
    "                           random_state=1)\n",
    "\n",
    "ada_boost.fit(X_train, y_train)\n",
    "\n",
    "print('Best estimator mean cross validated training score:')\n",
    "print(cross_val_score(ada_boost, X_train, y_train, cv=5).mean())\n",
    "print('Best estimator score on the full training set:')\n",
    "print(ada_boost.score(X_train, y_train))\n",
    "print('Best estimator score on the test set:')\n",
    "print(ada_boost.score(X_test, y_test))\n",
    "print('Feature importances:')\n",
    "print(ada_boost.feature_importances_)"
   ]
  },
  {
   "cell_type": "code",
   "execution_count": null,
   "metadata": {},
   "outputs": [],
   "source": [
    "#CV of DecisionTreeClassifier with GridSearch: 0.6894736842105262\n",
    "#CV of RandomForestClassifier with GridSearch: 0.6763157894736842\n",
    "#CV of AdaBoostClassifier with GridSearch:: 0.6131578947368421"
   ]
  },
  {
   "cell_type": "code",
   "execution_count": null,
   "metadata": {},
   "outputs": [],
   "source": [
    "predictions = gs_dtc.best_estimator_.predict(X_test)"
   ]
  },
  {
   "cell_type": "code",
   "execution_count": null,
   "metadata": {},
   "outputs": [],
   "source": [
    "pd.DataFrame(confusion_matrix(y_test, predictions), index = ['actual LOW', 'actual HIGH'], \n",
    "             columns = ['predicted LOW', 'predicted HIGH'])"
   ]
  },
  {
   "cell_type": "code",
   "execution_count": null,
   "metadata": {},
   "outputs": [],
   "source": [
    "pd.DataFrame([accuracy_score(y_test, predictions), precision_score(y_test, predictions),\n",
    "              recall_score(y_test, predictions), f1_score(y_test, predictions)], columns = ['scores'], \n",
    "             index = ['accuracy','precision', 'recall', 'f1'])"
   ]
  },
  {
   "cell_type": "code",
   "execution_count": null,
   "metadata": {},
   "outputs": [],
   "source": [
    "predictions_df = pd.DataFrame()\n",
    "predictions_df['actual']= y_test\n",
    "predictions_df['predicted']= predictions\n",
    "predictions_df['probability_HIGH']= gs_rfc.best_estimator_.predict_proba(X_test)[:,1]\n",
    "predictions_df.head()"
   ]
  },
  {
   "cell_type": "code",
   "execution_count": null,
   "metadata": {},
   "outputs": [],
   "source": [
    "false_positives = []\n",
    "for thresh in np.arange(1, 100)/100:\n",
    "    labeled_1 = np.array([1 if x >= thresh else 0 for x in predictions_df.probability_HIGH.values])\n",
    "    fp = np.mean((y_test == 0) & (labeled_1 == 1))\n",
    "    false_positives.append(fp)\n",
    "   \n",
    "\n",
    "accuracy = []\n",
    "for thresh in np.arange(1, 100)/100:\n",
    "    labeled_1 = np.array([1 if x >= thresh else 0 for x in predictions_df.probability_HIGH.values])\n",
    "    acc = np.mean(labeled_1 == y_test)\n",
    "    accuracy.append(acc)\n",
    "    \n",
    "false_positives = np.array(false_positives)\n",
    "accuracy = np.array(accuracy)\n",
    "plt.plot(np.arange(1, 100)/100, false_positives, label='false positives')\n",
    "plt.plot(np.arange(1, 100)/100, accuracy, label='accuracies')\n",
    "plt.legend()\n",
    "plt.xlabel('threshold')\n",
    "plt.show()"
   ]
  },
  {
   "cell_type": "code",
   "execution_count": null,
   "metadata": {},
   "outputs": [],
   "source": [
    "predictions_df['60_precent_threshold']= predictions_df.probability_HIGH.map(lambda x:1 if x>= 0.6 else 0)\n",
    "predictions_df.head()"
   ]
  },
  {
   "cell_type": "code",
   "execution_count": null,
   "metadata": {},
   "outputs": [],
   "source": [
    "pd.DataFrame([accuracy_score(y_test, predictions_df['60_precent_threshold']), \n",
    "              precision_score(y_test, predictions_df['60_precent_threshold']),\n",
    "              recall_score(y_test, predictions_df['60_precent_threshold']),\n",
    "              f1_score(y_test, predictions_df['60_precent_threshold'])], columns = ['scores 60_percent_threshold'], \n",
    "             index = ['accuracy','precision', 'recall', 'f1'])"
   ]
  },
  {
   "cell_type": "code",
   "execution_count": null,
   "metadata": {},
   "outputs": [],
   "source": [
    "pd.DataFrame(confusion_matrix(y_test, predictions_df['60_precent_threshold']), index = ['actual LOW', 'actual HIGH'], \n",
    "             columns = ['predicted LOW', 'predicted HIGH'])"
   ]
  },
  {
   "cell_type": "code",
   "execution_count": null,
   "metadata": {},
   "outputs": [],
   "source": [
    "#Finding area under the curve\n",
    "fpr, tpr, threshold = roc_curve(y_test, predictions_df.probability_HIGH)\n",
    "roc_auc = auc(fpr, tpr)\n",
    "\n",
    "# Plotting ROC curve for high salary\n",
    "plt.figure(figsize=[6, 6])\n",
    "plt.plot(fpr, tpr, label='ROC curve (area = %0.2f)' % roc_auc, linewidth=4)\n",
    "plt.plot([0, 1], [0, 1], 'k--', linewidth=4)\n",
    "plt.xlim([-0.05, 1.0])\n",
    "plt.ylim([-0.05, 1.05])\n",
    "plt.xlabel('False Positive Rate', fontsize=18)\n",
    "plt.ylabel('True Positive Rate', fontsize=18)\n",
    "plt.title('ROC curve', fontsize=18)\n",
    "plt.legend(loc=\"lower right\")\n",
    "plt.show()"
   ]
  },
  {
   "cell_type": "code",
   "execution_count": null,
   "metadata": {},
   "outputs": [],
   "source": [
    "#Finding area under the curve\n",
    "precision, recall, threshold = precision_recall_curve(y_test, predictions_df.probability_HIGH)\n",
    "\n",
    "\n",
    "# Plotting precision-recall curve for high salary\n",
    "plt.figure(figsize=[6, 6])\n",
    "plt.plot(recall, precision, label='Precision-recall curve', linewidth=4)\n",
    "plt.xlim([-0.05, 1.0])\n",
    "plt.ylim([-0.05, 1.05])\n",
    "plt.xlabel('Recall', fontsize=18)\n",
    "plt.ylabel('Precision', fontsize=18)\n",
    "plt.title('Precision-Recall curve', fontsize=18)\n",
    "plt.legend(loc=\"lower right\")\n",
    "plt.show()"
   ]
  },
  {
   "cell_type": "code",
   "execution_count": null,
   "metadata": {},
   "outputs": [],
   "source": []
  }
 ],
 "metadata": {
  "kernelspec": {
   "display_name": "Python 3",
   "language": "python",
   "name": "python3"
  },
  "language_info": {
   "codemirror_mode": {
    "name": "ipython",
    "version": 3
   },
   "file_extension": ".py",
   "mimetype": "text/x-python",
   "name": "python",
   "nbconvert_exporter": "python",
   "pygments_lexer": "ipython3",
   "version": "3.7.7"
  }
 },
 "nbformat": 4,
 "nbformat_minor": 4
}
